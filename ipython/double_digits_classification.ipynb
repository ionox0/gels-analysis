{
 "cells": [
  {
   "cell_type": "code",
   "execution_count": 2,
   "metadata": {},
   "outputs": [
    {
     "name": "stdout",
     "output_type": "stream",
     "text": [
      "Using matplotlib backend: TkAgg\n"
     ]
    },
    {
     "name": "stderr",
     "output_type": "stream",
     "text": [
      "/usr/local/lib/python2.7/dist-packages/matplotlib/__init__.py:1405: UserWarning: \n",
      "This call to matplotlib.use() has no effect because the backend has already\n",
      "been chosen; matplotlib.use() must be called *before* pylab, matplotlib.pyplot,\n",
      "or matplotlib.backends is imported for the first time.\n",
      "\n",
      "  warnings.warn(_use_error_msg)\n"
     ]
    }
   ],
   "source": [
    "import cv2\n",
    "import scipy\n",
    "import pprint\n",
    "import random\n",
    "import itertools\n",
    "import numpy as np\n",
    "from sklearn.svm import SVC\n",
    "from sklearn import datasets\n",
    "from collections import Counter\n",
    "from skimage.feature import hog\n",
    "from sklearn import preprocessing\n",
    "from skimage import data\n",
    "import keras\n",
    "from sklearn.externals import joblib\n",
    "\n",
    "\n",
    "import matplotlib\n",
    "matplotlib.use('Agg')\n",
    "%matplotlib auto\n",
    "\n",
    "from matplotlib import pyplot as plt"
   ]
  },
  {
   "cell_type": "code",
   "execution_count": 195,
   "metadata": {
    "collapsed": true
   },
   "outputs": [],
   "source": [
    "from sklearn.datasets import fetch_mldata\n",
    "\n",
    "mnist = fetch_mldata('MNIST original')#, data_home=custom_data_home)\n",
    "data = mnist.data\n",
    "target = mnist.target"
   ]
  },
  {
   "cell_type": "markdown",
   "metadata": {},
   "source": [
    "# Generating 2-digit combinations"
   ]
  },
  {
   "cell_type": "code",
   "execution_count": 411,
   "metadata": {
    "scrolled": false
   },
   "outputs": [],
   "source": [
    "def remove_border(img):\n",
    "    where = np.where(img > 0)\n",
    "    y1 = np.min(where[0])\n",
    "    y2 = np.max(where[0])\n",
    "    x1 = np.min(where[1])\n",
    "    x2 = np.max(where[1])\n",
    "    crop = img[y1:y2 , x1:x2]\n",
    "    return crop\n",
    "\n",
    "from skimage.filters import threshold_otsu\n",
    "\n",
    "i = 0\n",
    "combs = []\n",
    "combs_labels = []\n",
    "data_w_labels = zip(data, target)\n",
    "\n",
    "import random\n",
    "random.shuffle(data_w_labels)\n",
    "\n",
    "for comb in itertools.combinations(data_w_labels, 2):\n",
    "    if i >= 1000000: break\n",
    "        \n",
    "    first_digit = comb[0][0].reshape((28, 28))\n",
    "    second_digit = comb[1][0].reshape((28, 28))\n",
    "\n",
    "    thresh = threshold_otsu(first_digit)\n",
    "    first_digit = (first_digit > thresh).astype(np.uint8)\n",
    "    \n",
    "    thresh = threshold_otsu(second_digit)\n",
    "    second_digit = (second_digit > thresh).astype(np.uint8)\n",
    "    \n",
    "    first_mod = remove_border(first_digit)\n",
    "    second_mod = remove_border(second_digit)\n",
    "    \n",
    "    # Make sure height diff is divisible by 2\n",
    "    if not (first_mod.shape[0] % 2 == 0):\n",
    "        first_mod = np.vstack([first_mod, np.zeros((1, first_mod.shape[1]))])\n",
    "    if not (second_mod.shape[0] % 2 == 0):\n",
    "        second_mod = np.vstack([second_mod, np.zeros((1, second_mod.shape[1]))])\n",
    "    \n",
    "    height_diff = first_mod.shape[0] - second_mod.shape[0]\n",
    "    \n",
    "    if height_diff < 0:\n",
    "        padding = int(-height_diff / 2.0)\n",
    "        thepad = np.zeros((first_mod.shape[0], padding))\n",
    "        first_mod = np.vstack([first_mod, thepad])\n",
    "        first_mod = np.vstack([thepad, first_mod])\n",
    "    elif height_diff > 0:\n",
    "        padding = int(height_diff / 2.0)\n",
    "        thepad = np.zeros((padding, second_mod.shape[1]))\n",
    "        second_mod = np.vstack([second_mod, thepad])\n",
    "        second_mod = np.vstack([thepad, second_mod])\n",
    "    \n",
    "    # Align width\n",
    "    overlap = 1\n",
    "    \n",
    "    height = first_mod.shape[0]\n",
    "    width_1 = first_mod.shape[1]\n",
    "    width_2 = second_mod.shape[1]\n",
    "    \n",
    "    padding = np.zeros((height, width_2 - overlap))\n",
    "    first_mod = np.hstack([first_mod, padding])\n",
    "    padding = np.zeros((height, width_1 - overlap))\n",
    "    second_mod = np.hstack([padding, second_mod])\n",
    "    \n",
    "    overlapped = first_mod.astype(np.uint64) + second_mod.astype(np.uint64)\n",
    "    overlapped = np.clip(overlapped, 0, 255).astype(np.uint8)\n",
    "    padded = np.pad(overlapped, (5, 5), 'constant', constant_values=(0, 0))  \n",
    "    \n",
    "    binary = (padded > 0).astype(np.uint8)\n",
    "    combs.append(binary)\n",
    "    \n",
    "    label = int(  str(int(comb[0][1])) + str(int(comb[1][1]))  )\n",
    "    combs_labels.append( label )\n",
    "    i += 1\n",
    "    \n",
    "# combs = np.array(combs)\n",
    "combs_labels = np.array(combs_labels)"
   ]
  },
  {
   "cell_type": "code",
   "execution_count": 434,
   "metadata": {},
   "outputs": [],
   "source": [
    "combs_reshaped = [cv2.resize(x, (38, 28)) for x in combs]"
   ]
  },
  {
   "cell_type": "code",
   "execution_count": 436,
   "metadata": {},
   "outputs": [
    {
     "data": {
      "image/png": "[encoded data removed]",
      "text/plain": [
       "<matplotlib.figure.Figure at 0x7f8b0a69bf50>"
      ]
     },
     "metadata": {},
     "output_type": "display_data"
    },
    {
     "data": {
      "text/plain": [
       "49"
      ]
     },
     "execution_count": 436,
     "metadata": {},
     "output_type": "execute_result"
    }
   ],
   "source": [
    "i = 851\n",
    "plt.imshow(combs_reshaped[i])\n",
    "plt.show()\n",
    "combs_labels[i]"
   ]
  },
  {
   "cell_type": "code",
   "execution_count": 403,
   "metadata": {
    "collapsed": true
   },
   "outputs": [],
   "source": [
    "def plot_things(things, labels):\n",
    "    count = len(things)\n",
    "    plt.figure(figsize=(20, 20))\n",
    "    \n",
    "    plt.axis('off')\n",
    "    plt.xticks([])\n",
    "    plt.yticks([])\n",
    "    for i, thing in enumerate(things):\n",
    "        cols = 10\n",
    "        rows = int(count / cols) + 1\n",
    "        ax = plt.subplot(rows, cols, 1 + i)\n",
    "        \n",
    "        ax.set_xticklabels([])\n",
    "        ax.set_yticklabels([])\n",
    "        ax.set_title(labels[i])\n",
    "\n",
    "        plt.imshow(thing)\n",
    "    plt.show()"
   ]
  },
  {
   "cell_type": "code",
   "execution_count": 410,
   "metadata": {},
   "outputs": [
    {
     "data": {
      "image/png": "[encoded data removed]",
      "text/plain": [
       "<matplotlib.figure.Figure at 0x7f8b40968390>"
      ]
     },
     "metadata": {},
     "output_type": "display_data"
    }
   ],
   "source": [
    "i = 100\n",
    "plot_things(combs_reshaped[i:i + 50], combs_labels[i:i + 50])"
   ]
  },
  {
   "cell_type": "markdown",
   "metadata": {},
   "source": [
    "# Train Classifier"
   ]
  },
  {
   "cell_type": "code",
   "execution_count": 437,
   "metadata": {},
   "outputs": [],
   "source": [
    "from sklearn.cross_validation import train_test_split\n",
    "from keras.utils.np_utils import to_categorical\n",
    "\n",
    "# Extract the features and labels\n",
    "combs_np = np.array(combs_reshaped)\n",
    "features = np.expand_dims(combs_np.reshape(1000000, 28, 38), axis=3)\n",
    "labels = to_categorical(combs_labels)\n",
    "\n",
    "x_train, y_train, x_test, y_test = train_test_split(features, labels)"
   ]
  },
  {
   "cell_type": "code",
   "execution_count": 3,
   "metadata": {
    "collapsed": true
   },
   "outputs": [],
   "source": [
    "import keras\n",
    "from keras import applications\n",
    "from keras.models import Sequential\n",
    "from keras.datasets import mnist\n",
    "from keras.layers import Dense, Dropout, Flatten, Activation, BatchNormalization\n",
    "from keras.layers import Conv2D, MaxPooling2D\n",
    "from keras import backend as K\n",
    "\n",
    "\n",
    "def get_model():\n",
    "    model = Sequential()\n",
    "\n",
    "    model.add(Conv2D(32, (3,3), input_shape=(28, 38, 1), padding='same'))\n",
    "    model.add(BatchNormalization())\n",
    "    model.add(Activation('relu'))\n",
    "    model.add(Conv2D(32, (3, 3)))\n",
    "    model.add(BatchNormalization())\n",
    "    model.add(Activation('relu'))\n",
    "    model.add(MaxPooling2D(pool_size=(2, 2)))\n",
    "    model.add(Dropout(0.25))\n",
    "\n",
    "    model.add(Conv2D(64, (3, 3), padding='same'))\n",
    "    model.add(BatchNormalization())\n",
    "    model.add(Activation('relu'))\n",
    "    model.add(Conv2D(64, (3, 3)))\n",
    "    model.add(BatchNormalization())\n",
    "    model.add(Activation('relu'))\n",
    "    model.add(MaxPooling2D(pool_size=(2, 2)))\n",
    "    model.add(Dropout(0.25))\n",
    "\n",
    "    model.add(Flatten())\n",
    "    model.add(Dense(512))\n",
    "    model.add(Activation('relu'))\n",
    "    model.add(Dropout(0.5))\n",
    "    model.add(Dense(100))\n",
    "    model.add(Activation('softmax'))\n",
    "\n",
    "    model.compile(loss=keras.losses.categorical_crossentropy,\n",
    "                  optimizer=keras.optimizers.Adadelta(),\n",
    "                  metrics=['accuracy'])\n",
    "    return model\n",
    "\n",
    "\n",
    "batch_size = 512\n",
    "num_classes = 10\n",
    "epochs = 7\n",
    "\n",
    "model = get_model()"
   ]
  },
  {
   "cell_type": "code",
   "execution_count": 439,
   "metadata": {},
   "outputs": [
    {
     "name": "stdout",
     "output_type": "stream",
     "text": [
      "Train on 950000 samples, validate on 50000 samples\n",
      "Epoch 1/7\n",
      "950000/950000 [==============================] - 336s - loss: 0.3541 - acc: 0.9017 - val_loss: 5.6276 - val_acc: 0.5877\n",
      "Epoch 2/7\n",
      "950000/950000 [==============================] - 332s - loss: 0.0763 - acc: 0.9773 - val_loss: 5.8614 - val_acc: 0.5914\n"
     ]
    }
   ],
   "source": [
    "earlyStopping=keras.callbacks.EarlyStopping(monitor='val_loss', patience=0, verbose=0, mode='auto')\n",
    "\n",
    "history_bn = model.fit(\n",
    "    features,\n",
    "    labels,\n",
    "    validation_split=0.05,\n",
    "    batch_size=batch_size,\n",
    "    callbacks=[earlyStopping], \n",
    "    epochs=epochs\n",
    ")\n",
    "\n",
    "# Save the classifier\n",
    "model.save(filepath='./double_digits_cnn')"
   ]
  },
  {
   "cell_type": "markdown",
   "metadata": {},
   "source": [
    "# Test on Gels"
   ]
  },
  {
   "cell_type": "code",
   "execution_count": 4,
   "metadata": {},
   "outputs": [
    {
     "name": "stderr",
     "output_type": "stream",
     "text": [
      "/usr/local/lib/python2.7/dist-packages/sklearn/base.py:315: UserWarning: Trying to unpickle estimator SVC from version 0.18.1 when using version 0.18.2. This might lead to breaking code or invalid results. Use at your own risk.\n",
      "  UserWarning)\n",
      "/usr/local/lib/python2.7/dist-packages/sklearn/base.py:315: UserWarning: Trying to unpickle estimator StandardScaler from version 0.18.1 when using version 0.18.2. This might lead to breaking code or invalid results. Use at your own risk.\n",
      "  UserWarning)\n"
     ]
    }
   ],
   "source": [
    "clf, pp = joblib.load(\"digits_cls.pkl\")\n",
    "model = keras.models.load_model('./double_digits_cnn')"
   ]
  },
  {
   "cell_type": "code",
   "execution_count": 5,
   "metadata": {
    "collapsed": true
   },
   "outputs": [],
   "source": [
    "def sort_rects(rects_ctrs):\n",
    "    rects_sort = sorted(rects_ctrs, key=lambda r: r[0][0])\n",
    "    \n",
    "    result = []\n",
    "    for rect in rects_sort:\n",
    "        # Filter to only rects with overlap of > 1/3 of target height\n",
    "        rects_sort_filt = filter(lambda x: calc_overlap(x[0], rect[0]) > (x[0][3] / 3.0) and abs(x[0][3] - rect[0][3]) < (x[0][3]), rects_sort)\n",
    "        rects_sort_filt = sorted(rects_sort_filt, key=lambda r: r[0][0])\n",
    "        result += rects_sort_filt\n",
    "        for rect_sorted in rects_sort_filt:\n",
    "            rects_sort.remove(rect_sorted)\n",
    "        \n",
    "    return zip(*result)\n",
    "    \n",
    "\n",
    "def calc_overlap(rect_1, rect_2):\n",
    "    rect_1_x = rect_1[0]\n",
    "    rect_1_y = rect_1[1]\n",
    "    rect_1_width = rect_1[2]\n",
    "    rect_1_height = rect_1[3]\n",
    "    \n",
    "    rect_2_x = rect_2[0]\n",
    "    rect_2_y = rect_2[1]\n",
    "    rect_2_width = rect_2[2]\n",
    "    rect_2_height = rect_2[3]\n",
    "    \n",
    "    overlap = min(rect_1_y + rect_1_height, rect_2_y + rect_2_height) - max(rect_1_y, rect_2_y)\n",
    "    return overlap"
   ]
  },
  {
   "cell_type": "code",
   "execution_count": 8,
   "metadata": {},
   "outputs": [],
   "source": [
    "def extract_numbers(im, thresh=80, blur=True):\n",
    "    result = []\n",
    "    \n",
    "    im_one = im.astype(np.uint8)[:,:,2]\n",
    "\n",
    "    # Convert to grayscale and apply Gaussian filtering\n",
    "    im_gray = cv2.cvtColor(im, cv2.COLOR_BGR2GRAY)\n",
    "    im_gray = (255 - im_one)\n",
    "    if blur:\n",
    "        im_gray = cv2.GaussianBlur(im_gray, (5, 5), 0)\n",
    "\n",
    "    # Threshold the image\n",
    "    ret, im_th_all_colors = cv2.threshold(im_gray, thresh, 255, cv2.THRESH_BINARY)\n",
    "    # Or try with black threshold\n",
    "    lower, upper = boundaries['black']\n",
    "    lower = np.array(lower, dtype = \"uint8\")\n",
    "    upper = np.array(upper, dtype = \"uint8\")\n",
    "    mask = cv2.inRange(im, lower, upper)\n",
    "    im_th = cv2.bitwise_and(im, im, mask = mask).astype(np.uint8)\n",
    "    im_th = cv2.cvtColor(im_th, cv2.COLOR_BGR2GRAY)\n",
    "\n",
    "    # Find contours in the image\n",
    "    ctrs = cv2.findContours(im_th, cv2.RETR_EXTERNAL, cv2.CHAIN_APPROX_SIMPLE)\n",
    "\n",
    "    # Get contour bounding boxes\n",
    "    rects = [cv2.boundingRect(ctr) for ctr in ctrs[1]]\n",
    "    \n",
    "    # Sorted order of rois\n",
    "    sorted_rects, sorted_ctrs = sort_rects(zip(rects, ctrs[1]))\n",
    "\n",
    "    probs = []\n",
    "    date_possibs = []\n",
    "    cur_date_possib = []\n",
    "    prev_end_x = sorted_rects[0][0] + sorted_rects[0][2]\n",
    "    prev_end_y = sorted_rects[0][1] + sorted_rects[0][3]\n",
    "    j = 0\n",
    "    # For each rectangular region, predict the digit using classifier\n",
    "    for i, rect in enumerate(sorted_rects):\n",
    "        x_start = rect[0]\n",
    "        y_start = rect[1]\n",
    "        width = rect[2]\n",
    "        height = rect[3]\n",
    "\n",
    "        # Skip short artifacts\n",
    "        if height < 10: continue\n",
    "\n",
    "        im_th_all_colors = im_th_all_colors.astype(np.float64)\n",
    "        im_roi = im_th_all_colors[y_start : y_start + height, x_start : x_start + width]\n",
    "\n",
    "        mask = np.zeros((height, width)).astype(np.uint8)\n",
    "        \n",
    "        mask = cv2.drawContours(mask, sorted_ctrs, i, (255, 255, 255), cv2.FILLED, offset=(-x_start, -y_start))\n",
    "        roi = cv2.bitwise_and(mask.astype(np.uint8), im_roi.astype(np.uint8)).astype(np.uint8)\n",
    "\n",
    "        # CNN\n",
    "        if height < width:\n",
    "            padding = int((width - height) / 2.0)\n",
    "            roi_pad = np.pad(roi, (padding, padding), 'constant', constant_values=(0, 0))\n",
    "        elif width < height:\n",
    "            padding = int((height - width) / 2.0)\n",
    "            roi_pad = np.pad(roi, (padding, padding), 'constant', constant_values=(0, 0))\n",
    "        else:\n",
    "            roi_pad = roi\n",
    "        roi_pad = np.pad(roi_pad, (5, 5), 'constant', constant_values=(0, 0))\n",
    "\n",
    "        roi_resized = cv2.resize(roi_pad, (38 ,28), interpolation=cv2.INTER_NEAREST)\n",
    "        \n",
    "        roi_cnn = np.expand_dims(roi_resized, axis=2)\n",
    "        \n",
    "        prob = model.predict_proba(np.array([roi_cnn]), verbose=0)\n",
    "        nbr = np.argmax(prob)\n",
    "        nbr_prob = prob[0]\n",
    "\n",
    "        # SVM w. HOG feats\n",
    "#         roi_hog_fd = calc_hog_feats(rect, roi)\n",
    "#         if not hasattr(roi_hog_fd, 'shape'): continue\n",
    "#         nbr = clf.predict(roi_hog_fd)\n",
    "#         # Dummy prob\n",
    "#         nbr_prob = 0\n",
    "\n",
    "        if x_start - prev_end_x < 80 and y_start - prev_end_y < 80:\n",
    "            cur_date_possib.append(nbr)\n",
    "        else:\n",
    "            date_possibs.append(cur_date_possib)\n",
    "            cur_date_possib = [nbr]\n",
    "\n",
    "        prev_end_x = x_start\n",
    "        prev_end_y = y_start\n",
    "\n",
    "        cv2.rectangle(im, (rect[0], rect[1]), (rect[0] + rect[2], rect[1] + rect[3]), (0, 100, 255), 1)\n",
    "        cv2.putText(im, str(int(nbr)) + '-', (rect[0], rect[1]), cv2.FONT_ITALIC, 0.4, (0, 0, 255), 1)\n",
    "        \n",
    "        # Only add if we are confident\n",
    "#         class_prob = np.max(prob)\n",
    "#         if class_prob > .9:\n",
    "#         probs.append(class_prob)\n",
    "\n",
    "#         if j == 6:\n",
    "#             print(prob)\n",
    "#             plt.imshow(roi_resized)\n",
    "#             plt.show()\n",
    "#             return\n",
    "            \n",
    "        probs.append(0)\n",
    "        result.append((roi_resized, nbr))   \n",
    "        \n",
    "        j += 1\n",
    "        \n",
    "    date_possibs.append(cur_date_possib)\n",
    "    \n",
    "    plt.imshow(im)\n",
    "    plt.show()\n",
    "    \n",
    "    return result, date_possibs, probs"
   ]
  },
  {
   "cell_type": "code",
   "execution_count": 10,
   "metadata": {
    "scrolled": false
   },
   "outputs": [
    {
     "ename": "TclError",
     "evalue": "no display name and no $DISPLAY environment variable",
     "output_type": "error",
     "traceback": [
      "\u001b[0;31m---------------------------------------------------------------------------\u001b[0m",
      "\u001b[0;31mTclError\u001b[0m                                  Traceback (most recent call last)",
      "\u001b[0;32m<ipython-input-10-a56aa5f20a65>\u001b[0m in \u001b[0;36m<module>\u001b[0;34m()\u001b[0m\n\u001b[1;32m     27\u001b[0m \u001b[0;31m# imgs = [roi]\u001b[0m\u001b[0;34m\u001b[0m\u001b[0;34m\u001b[0m\u001b[0m\n\u001b[1;32m     28\u001b[0m \u001b[0;34m\u001b[0m\u001b[0m\n\u001b[0;32m---> 29\u001b[0;31m \u001b[0mresults\u001b[0m \u001b[0;34m=\u001b[0m \u001b[0;34m[\u001b[0m\u001b[0mextract_numbers\u001b[0m\u001b[0;34m(\u001b[0m\u001b[0mi\u001b[0m\u001b[0;34m)\u001b[0m \u001b[0;32mfor\u001b[0m \u001b[0mi\u001b[0m \u001b[0;32min\u001b[0m \u001b[0mimages\u001b[0m\u001b[0;34m[\u001b[0m\u001b[0;36m0\u001b[0m\u001b[0;34m:\u001b[0m\u001b[0;36m10\u001b[0m\u001b[0;34m]\u001b[0m\u001b[0;34m]\u001b[0m\u001b[0;34m\u001b[0m\u001b[0m\n\u001b[0m",
      "\u001b[0;32m<ipython-input-8-81346cecc672>\u001b[0m in \u001b[0;36mextract_numbers\u001b[0;34m(im, thresh, blur)\u001b[0m\n\u001b[1;32m    109\u001b[0m     \u001b[0mdate_possibs\u001b[0m\u001b[0;34m.\u001b[0m\u001b[0mappend\u001b[0m\u001b[0;34m(\u001b[0m\u001b[0mcur_date_possib\u001b[0m\u001b[0;34m)\u001b[0m\u001b[0;34m\u001b[0m\u001b[0m\n\u001b[1;32m    110\u001b[0m \u001b[0;34m\u001b[0m\u001b[0m\n\u001b[0;32m--> 111\u001b[0;31m     \u001b[0mplt\u001b[0m\u001b[0;34m.\u001b[0m\u001b[0mimshow\u001b[0m\u001b[0;34m(\u001b[0m\u001b[0mim\u001b[0m\u001b[0;34m)\u001b[0m\u001b[0;34m\u001b[0m\u001b[0m\n\u001b[0m\u001b[1;32m    112\u001b[0m     \u001b[0mplt\u001b[0m\u001b[0;34m.\u001b[0m\u001b[0mshow\u001b[0m\u001b[0;34m(\u001b[0m\u001b[0;34m)\u001b[0m\u001b[0;34m\u001b[0m\u001b[0m\n\u001b[1;32m    113\u001b[0m \u001b[0;34m\u001b[0m\u001b[0m\n",
      "\u001b[0;32m/usr/local/lib/python2.7/dist-packages/matplotlib/pyplot.pyc\u001b[0m in \u001b[0;36mimshow\u001b[0;34m(X, cmap, norm, aspect, interpolation, alpha, vmin, vmax, origin, extent, shape, filternorm, filterrad, imlim, resample, url, hold, data, **kwargs)\u001b[0m\n\u001b[1;32m   3139\u001b[0m            \u001b[0mfilternorm\u001b[0m\u001b[0;34m=\u001b[0m\u001b[0;36m1\u001b[0m\u001b[0;34m,\u001b[0m \u001b[0mfilterrad\u001b[0m\u001b[0;34m=\u001b[0m\u001b[0;36m4.0\u001b[0m\u001b[0;34m,\u001b[0m \u001b[0mimlim\u001b[0m\u001b[0;34m=\u001b[0m\u001b[0mNone\u001b[0m\u001b[0;34m,\u001b[0m \u001b[0mresample\u001b[0m\u001b[0;34m=\u001b[0m\u001b[0mNone\u001b[0m\u001b[0;34m,\u001b[0m \u001b[0murl\u001b[0m\u001b[0;34m=\u001b[0m\u001b[0mNone\u001b[0m\u001b[0;34m,\u001b[0m\u001b[0;34m\u001b[0m\u001b[0m\n\u001b[1;32m   3140\u001b[0m            hold=None, data=None, **kwargs):\n\u001b[0;32m-> 3141\u001b[0;31m     \u001b[0max\u001b[0m \u001b[0;34m=\u001b[0m \u001b[0mgca\u001b[0m\u001b[0;34m(\u001b[0m\u001b[0;34m)\u001b[0m\u001b[0;34m\u001b[0m\u001b[0m\n\u001b[0m\u001b[1;32m   3142\u001b[0m     \u001b[0;31m# Deprecated: allow callers to override the hold state\u001b[0m\u001b[0;34m\u001b[0m\u001b[0;34m\u001b[0m\u001b[0m\n\u001b[1;32m   3143\u001b[0m     \u001b[0;31m# by passing hold=True|False\u001b[0m\u001b[0;34m\u001b[0m\u001b[0;34m\u001b[0m\u001b[0m\n",
      "\u001b[0;32m/usr/local/lib/python2.7/dist-packages/matplotlib/pyplot.pyc\u001b[0m in \u001b[0;36mgca\u001b[0;34m(**kwargs)\u001b[0m\n\u001b[1;32m    948\u001b[0m     \u001b[0mmatplotlib\u001b[0m\u001b[0;34m.\u001b[0m\u001b[0mfigure\u001b[0m\u001b[0;34m.\u001b[0m\u001b[0mFigure\u001b[0m\u001b[0;34m.\u001b[0m\u001b[0mgca\u001b[0m \u001b[0;34m:\u001b[0m \u001b[0mThe\u001b[0m \u001b[0mfigure\u001b[0m\u001b[0;31m'\u001b[0m\u001b[0ms\u001b[0m \u001b[0mgca\u001b[0m \u001b[0mmethod\u001b[0m\u001b[0;34m.\u001b[0m\u001b[0;34m\u001b[0m\u001b[0m\n\u001b[1;32m    949\u001b[0m     \"\"\"\n\u001b[0;32m--> 950\u001b[0;31m     \u001b[0;32mreturn\u001b[0m \u001b[0mgcf\u001b[0m\u001b[0;34m(\u001b[0m\u001b[0;34m)\u001b[0m\u001b[0;34m.\u001b[0m\u001b[0mgca\u001b[0m\u001b[0;34m(\u001b[0m\u001b[0;34m**\u001b[0m\u001b[0mkwargs\u001b[0m\u001b[0;34m)\u001b[0m\u001b[0;34m\u001b[0m\u001b[0m\n\u001b[0m\u001b[1;32m    951\u001b[0m \u001b[0;34m\u001b[0m\u001b[0m\n\u001b[1;32m    952\u001b[0m \u001b[0;31m# More ways of creating axes:\u001b[0m\u001b[0;34m\u001b[0m\u001b[0;34m\u001b[0m\u001b[0m\n",
      "\u001b[0;32m/usr/local/lib/python2.7/dist-packages/matplotlib/pyplot.pyc\u001b[0m in \u001b[0;36mgcf\u001b[0;34m()\u001b[0m\n\u001b[1;32m    584\u001b[0m         \u001b[0;32mreturn\u001b[0m \u001b[0mfigManager\u001b[0m\u001b[0;34m.\u001b[0m\u001b[0mcanvas\u001b[0m\u001b[0;34m.\u001b[0m\u001b[0mfigure\u001b[0m\u001b[0;34m\u001b[0m\u001b[0m\n\u001b[1;32m    585\u001b[0m     \u001b[0;32melse\u001b[0m\u001b[0;34m:\u001b[0m\u001b[0;34m\u001b[0m\u001b[0m\n\u001b[0;32m--> 586\u001b[0;31m         \u001b[0;32mreturn\u001b[0m \u001b[0mfigure\u001b[0m\u001b[0;34m(\u001b[0m\u001b[0;34m)\u001b[0m\u001b[0;34m\u001b[0m\u001b[0m\n\u001b[0m\u001b[1;32m    587\u001b[0m \u001b[0;34m\u001b[0m\u001b[0m\n\u001b[1;32m    588\u001b[0m \u001b[0;34m\u001b[0m\u001b[0m\n",
      "\u001b[0;32m/usr/local/lib/python2.7/dist-packages/matplotlib/pyplot.pyc\u001b[0m in \u001b[0;36mfigure\u001b[0;34m(num, figsize, dpi, facecolor, edgecolor, frameon, FigureClass, **kwargs)\u001b[0m\n\u001b[1;32m    533\u001b[0m                                         \u001b[0mframeon\u001b[0m\u001b[0;34m=\u001b[0m\u001b[0mframeon\u001b[0m\u001b[0;34m,\u001b[0m\u001b[0;34m\u001b[0m\u001b[0m\n\u001b[1;32m    534\u001b[0m                                         \u001b[0mFigureClass\u001b[0m\u001b[0;34m=\u001b[0m\u001b[0mFigureClass\u001b[0m\u001b[0;34m,\u001b[0m\u001b[0;34m\u001b[0m\u001b[0m\n\u001b[0;32m--> 535\u001b[0;31m                                         **kwargs)\n\u001b[0m\u001b[1;32m    536\u001b[0m \u001b[0;34m\u001b[0m\u001b[0m\n\u001b[1;32m    537\u001b[0m         \u001b[0;32mif\u001b[0m \u001b[0mfigLabel\u001b[0m\u001b[0;34m:\u001b[0m\u001b[0;34m\u001b[0m\u001b[0m\n",
      "\u001b[0;32m/usr/local/lib/python2.7/dist-packages/matplotlib/backends/backend_tkagg.pyc\u001b[0m in \u001b[0;36mnew_figure_manager\u001b[0;34m(num, *args, **kwargs)\u001b[0m\n\u001b[1;32m     79\u001b[0m     \u001b[0mFigureClass\u001b[0m \u001b[0;34m=\u001b[0m \u001b[0mkwargs\u001b[0m\u001b[0;34m.\u001b[0m\u001b[0mpop\u001b[0m\u001b[0;34m(\u001b[0m\u001b[0;34m'FigureClass'\u001b[0m\u001b[0;34m,\u001b[0m \u001b[0mFigure\u001b[0m\u001b[0;34m)\u001b[0m\u001b[0;34m\u001b[0m\u001b[0m\n\u001b[1;32m     80\u001b[0m     \u001b[0mfigure\u001b[0m \u001b[0;34m=\u001b[0m \u001b[0mFigureClass\u001b[0m\u001b[0;34m(\u001b[0m\u001b[0;34m*\u001b[0m\u001b[0margs\u001b[0m\u001b[0;34m,\u001b[0m \u001b[0;34m**\u001b[0m\u001b[0mkwargs\u001b[0m\u001b[0;34m)\u001b[0m\u001b[0;34m\u001b[0m\u001b[0m\n\u001b[0;32m---> 81\u001b[0;31m     \u001b[0;32mreturn\u001b[0m \u001b[0mnew_figure_manager_given_figure\u001b[0m\u001b[0;34m(\u001b[0m\u001b[0mnum\u001b[0m\u001b[0;34m,\u001b[0m \u001b[0mfigure\u001b[0m\u001b[0;34m)\u001b[0m\u001b[0;34m\u001b[0m\u001b[0m\n\u001b[0m\u001b[1;32m     82\u001b[0m \u001b[0;34m\u001b[0m\u001b[0m\n\u001b[1;32m     83\u001b[0m \u001b[0;34m\u001b[0m\u001b[0m\n",
      "\u001b[0;32m/usr/local/lib/python2.7/dist-packages/matplotlib/backends/backend_tkagg.pyc\u001b[0m in \u001b[0;36mnew_figure_manager_given_figure\u001b[0;34m(num, figure)\u001b[0m\n\u001b[1;32m     87\u001b[0m     \"\"\"\n\u001b[1;32m     88\u001b[0m     \u001b[0m_focus\u001b[0m \u001b[0;34m=\u001b[0m \u001b[0mwindowing\u001b[0m\u001b[0;34m.\u001b[0m\u001b[0mFocusManager\u001b[0m\u001b[0;34m(\u001b[0m\u001b[0;34m)\u001b[0m\u001b[0;34m\u001b[0m\u001b[0m\n\u001b[0;32m---> 89\u001b[0;31m     \u001b[0mwindow\u001b[0m \u001b[0;34m=\u001b[0m \u001b[0mTk\u001b[0m\u001b[0;34m.\u001b[0m\u001b[0mTk\u001b[0m\u001b[0;34m(\u001b[0m\u001b[0;34m)\u001b[0m\u001b[0;34m\u001b[0m\u001b[0m\n\u001b[0m\u001b[1;32m     90\u001b[0m     \u001b[0mwindow\u001b[0m\u001b[0;34m.\u001b[0m\u001b[0mwithdraw\u001b[0m\u001b[0;34m(\u001b[0m\u001b[0;34m)\u001b[0m\u001b[0;34m\u001b[0m\u001b[0m\n\u001b[1;32m     91\u001b[0m \u001b[0;34m\u001b[0m\u001b[0m\n",
      "\u001b[0;32m/usr/lib/python2.7/lib-tk/Tkinter.pyc\u001b[0m in \u001b[0;36m__init__\u001b[0;34m(self, screenName, baseName, className, useTk, sync, use)\u001b[0m\n\u001b[1;32m   1765\u001b[0m                 \u001b[0mbaseName\u001b[0m \u001b[0;34m=\u001b[0m \u001b[0mbaseName\u001b[0m \u001b[0;34m+\u001b[0m \u001b[0mext\u001b[0m\u001b[0;34m\u001b[0m\u001b[0m\n\u001b[1;32m   1766\u001b[0m         \u001b[0minteractive\u001b[0m \u001b[0;34m=\u001b[0m \u001b[0;36m0\u001b[0m\u001b[0;34m\u001b[0m\u001b[0m\n\u001b[0;32m-> 1767\u001b[0;31m         \u001b[0mself\u001b[0m\u001b[0;34m.\u001b[0m\u001b[0mtk\u001b[0m \u001b[0;34m=\u001b[0m \u001b[0m_tkinter\u001b[0m\u001b[0;34m.\u001b[0m\u001b[0mcreate\u001b[0m\u001b[0;34m(\u001b[0m\u001b[0mscreenName\u001b[0m\u001b[0;34m,\u001b[0m \u001b[0mbaseName\u001b[0m\u001b[0;34m,\u001b[0m \u001b[0mclassName\u001b[0m\u001b[0;34m,\u001b[0m \u001b[0minteractive\u001b[0m\u001b[0;34m,\u001b[0m \u001b[0mwantobjects\u001b[0m\u001b[0;34m,\u001b[0m \u001b[0museTk\u001b[0m\u001b[0;34m,\u001b[0m \u001b[0msync\u001b[0m\u001b[0;34m,\u001b[0m \u001b[0muse\u001b[0m\u001b[0;34m)\u001b[0m\u001b[0;34m\u001b[0m\u001b[0m\n\u001b[0m\u001b[1;32m   1768\u001b[0m         \u001b[0;32mif\u001b[0m \u001b[0museTk\u001b[0m\u001b[0;34m:\u001b[0m\u001b[0;34m\u001b[0m\u001b[0m\n\u001b[1;32m   1769\u001b[0m             \u001b[0mself\u001b[0m\u001b[0;34m.\u001b[0m\u001b[0m_loadtk\u001b[0m\u001b[0;34m(\u001b[0m\u001b[0;34m)\u001b[0m\u001b[0;34m\u001b[0m\u001b[0m\n",
      "\u001b[0;31mTclError\u001b[0m: no display name and no $DISPLAY environment variable"
     ]
    }
   ],
   "source": [
    "imgs = [1,6,12,21,41,42,51,52,56,83,84,89,90,96,97,106,123,131,136,152,153,156,157] #7, 22\n",
    "filenames = ['../data/gels_nov_2016/Im{} - p. {}.png'.format(i, i) for i in imgs]\n",
    "\n",
    "images = [scipy.misc.imread(f) for f in filenames]\n",
    "\n",
    "boundaries = {\n",
    "#     ([30, 15, 20], [50, 40, 60]), # black ink\n",
    "    'black': ([0, 0, 0], [190, 190, 190]), # black ink\n",
    "    'blue': ([50, 31, 4], [85, 120, 180]), # blue dye\n",
    "}\n",
    "\n",
    "colors = []\n",
    "image = scipy.misc.imread(filenames[0])\n",
    "for bound in boundaries.keys():\n",
    "    lower, upper = boundaries[bound]\n",
    "    lower = np.array(lower, dtype = \"uint8\")\n",
    "    upper = np.array(upper, dtype = \"uint8\")\n",
    "\n",
    "    mask = cv2.inRange(image, lower, upper)\n",
    "    output = cv2.bitwise_and(image, image, mask = mask)\n",
    "    colors.append(output)\n",
    "    \n",
    "    \n",
    "\n",
    "im = scipy.misc.imread(filenames[8])#[580:880,440:980]   \n",
    "roi = im[790:880,520:750]\n",
    "# imgs = [roi]\n",
    "\n",
    "results = [extract_numbers(i) for i in images[0:10]]"
   ]
  },
  {
   "cell_type": "code",
   "execution_count": null,
   "metadata": {
    "collapsed": true
   },
   "outputs": [],
   "source": []
  }
 ],
 "metadata": {
  "kernelspec": {
   "display_name": "Python 2",
   "language": "python",
   "name": "python2"
  }
 },
 "nbformat": 4,
 "nbformat_minor": 2
}

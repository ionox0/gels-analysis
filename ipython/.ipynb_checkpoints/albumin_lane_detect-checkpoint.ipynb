{
 "cells": [
  {
   "cell_type": "code",
   "execution_count": 4,
   "metadata": {
    "collapsed": false
   },
   "outputs": [],
   "source": [
    "import PyPDF2\n",
    "from PIL import Image\n",
    "\n",
    "import sys\n",
    "import warnings\n",
    "import matplotlib\n",
    "import numpy as np\n",
    "from os import path\n",
    "\n",
    "from skimage import data\n",
    "from skimage import transform\n",
    "from skimage.util import img_as_float\n",
    "from skimage.color import rgb2gray\n",
    "from skimage.exposure import rescale_intensity\n",
    "\n",
    "from skimage.feature import match_template # (only works for single match)?\n",
    "from scipy import ndimage as ndi\n",
    "import matplotlib.pyplot as plt\n",
    "from skimage.feature import peak_local_max\n",
    "from skimage import data, img_as_float\n",
    "\n",
    "\n",
    "from matplotlib import pyplot as plt\n",
    "warnings.filterwarnings(\"ignore\")"
   ]
  },
  {
   "cell_type": "code",
   "execution_count": 5,
   "metadata": {
    "collapsed": false
   },
   "outputs": [],
   "source": [
    "imgs_blue = []\n",
    "imgs_blue_idx = [1,6,7,12,21,22,41,42,51,52,56,83,84,89,90,96,97,106,123,131,136,152,153,156,157]\n",
    "\n",
    "shape = (1276, 2100)\n",
    "\n",
    "for idx in imgs_blue_idx:\n",
    "    cur_im = data.imread('../data/gels_nov_2016/Im{} - p. {}.png'.format(idx, idx), flatten=True)\n",
    "    \n",
    "    cur_im = img_as_float(cur_im)\n",
    "    cur_im = rescale_intensity(cur_im)\n",
    "    cur_im = rgb2gray(cur_im)\n",
    "    \n",
    "    cur_im = transform.resize(cur_im, output_shape=shape) # todo\n",
    "    \n",
    "    imgs_blue.append(cur_im)"
   ]
  },
  {
   "cell_type": "markdown",
   "metadata": {},
   "source": [
    "### Grab Albumin roi"
   ]
  },
  {
   "cell_type": "code",
   "execution_count": 6,
   "metadata": {
    "collapsed": false,
    "scrolled": true
   },
   "outputs": [],
   "source": [
    "alb = img[357:378,460:507]"
   ]
  },
  {
   "cell_type": "markdown",
   "metadata": {},
   "source": [
    "### Find ROI in gel"
   ]
  },
  {
   "cell_type": "code",
   "execution_count": 80,
   "metadata": {
    "collapsed": false
   },
   "outputs": [],
   "source": [
    "def find_matches(img, template):\n",
    "    result = match_template(img, template)\n",
    "    xy_max = np.unravel_index(np.argsort(result.ravel())[-100:], result.shape)\n",
    "    found = np.zeros(img.shape)\n",
    "\n",
    "    # Don't include same ROI twice\n",
    "    xy_dedup = []\n",
    "    for x, y in zip(xy_max[0], xy_max[1]):\n",
    "        overlap = found[x : x + alb.shape[0], y : y + alb.shape[1]]\n",
    "        if not overlap.any():\n",
    "            found[x : x + template.shape[0], y : y + template.shape[1]] = 1\n",
    "\n",
    "            x_cen = x + int(template.shape[0] / 2)\n",
    "            y_cen = y + int(template.shape[1] / 2)\n",
    "            xy_dedup.append((x_cen, y_cen))\n",
    "            \n",
    "    return xy_dedup"
   ]
  },
  {
   "cell_type": "markdown",
   "metadata": {},
   "source": [
    "### View marks"
   ]
  },
  {
   "cell_type": "code",
   "execution_count": 69,
   "metadata": {
    "collapsed": false
   },
   "outputs": [],
   "source": [
    "from skimage.draw import circle\n",
    "\n",
    "def mark_match_rois(img, marker_points):\n",
    "    for x, y in marker_points:\n",
    "        rr, cc = circle(x, y, 5)\n",
    "        img[rr, cc] = 1\n",
    "    return img"
   ]
  },
  {
   "cell_type": "code",
   "execution_count": 70,
   "metadata": {
    "collapsed": false
   },
   "outputs": [
    {
     "ename": "SystemExit",
     "evalue": "0",
     "output_type": "error",
     "traceback": [
      "An exception has occurred, use %tb to see the full traceback.\n",
      "\u001b[0;31mSystemExit\u001b[0m\u001b[0;31m:\u001b[0m 0\n"
     ]
    }
   ],
   "source": [
    "plt.imshow(labeled, cmap='viridis')\n",
    "plt.show()"
   ]
  },
  {
   "cell_type": "markdown",
   "metadata": {},
   "source": [
    "### Extract lanes above Alb roi"
   ]
  },
  {
   "cell_type": "code",
   "execution_count": 78,
   "metadata": {
    "collapsed": false
   },
   "outputs": [],
   "source": [
    "def extract_lanes_from_marker(img, markers):\n",
    "    lanes = []\n",
    "    for x, y in markers:\n",
    "        lanes.append(img[x - 70 : x, y - 10 : y + 10])\n",
    "    return lanes"
   ]
  },
  {
   "cell_type": "code",
   "execution_count": 87,
   "metadata": {
    "collapsed": false
   },
   "outputs": [],
   "source": [
    "def plot_lanes(lanes):\n",
    "    count = len(lanes)\n",
    "    plt.figure(figsize=(20, 20))\n",
    "    for i, lane in enumerate(lanes):\n",
    "        cols = 40\n",
    "        rows = int(count / cols) + 1\n",
    "        plt.subplot(rows, cols, 1 + i)\n",
    "        plt.imshow(lane)"
   ]
  },
  {
   "cell_type": "code",
   "execution_count": 85,
   "metadata": {
    "collapsed": false
   },
   "outputs": [],
   "source": [
    "all_markers = [find_matches(img, alb) for img in imgs_blue]\n",
    "\n",
    "# labeled = [mark_match_rois(img.copy(), markers) for img, markers in zip(imgs_blue, all_markers)]\n",
    "\n",
    "l = [extract_lanes_from_marker(img, markers) for img, markers in zip(imgs_blue, all_markers)]\n",
    "lanes = [item for sublist in l for item in sublist]\n",
    "len(lanes)"
   ]
  },
  {
   "cell_type": "code",
   "execution_count": 88,
   "metadata": {
    "collapsed": false
   },
   "outputs": [
    {
     "ename": "SystemExit",
     "evalue": "0",
     "output_type": "error",
     "traceback": [
      "An exception has occurred, use %tb to see the full traceback.\n",
      "\u001b[0;31mSystemExit\u001b[0m\u001b[0;31m:\u001b[0m 0\n"
     ]
    }
   ],
   "source": [
    "plot_lanes(lanes)\n",
    "plt.show()"
   ]
  },
  {
   "cell_type": "code",
   "execution_count": null,
   "metadata": {
    "collapsed": true
   },
   "outputs": [],
   "source": []
  }
 ],
 "metadata": {
  "kernelspec": {
   "display_name": "gels-analysis",
   "language": "python",
   "name": "gels-analysis"
  },
  "language_info": {
   "codemirror_mode": {
    "name": "ipython",
    "version": 2
   },
   "file_extension": ".py",
   "mimetype": "text/x-python",
   "name": "python",
   "nbconvert_exporter": "python",
   "pygments_lexer": "ipython2",
   "version": "2.7.13"
  }
 },
 "nbformat": 4,
 "nbformat_minor": 2
}

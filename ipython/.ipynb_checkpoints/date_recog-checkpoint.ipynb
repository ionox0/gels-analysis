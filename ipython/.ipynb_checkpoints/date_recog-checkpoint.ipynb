{
 "cells": [
  {
   "cell_type": "code",
   "execution_count": 237,
   "metadata": {
    "collapsed": false
   },
   "outputs": [
    {
     "name": "stdout",
     "output_type": "stream",
     "text": [
      "Using matplotlib backend: TkAgg\n"
     ]
    }
   ],
   "source": [
    "# Import the modules\n",
    "import cv2\n",
    "import scipy\n",
    "import pprint\n",
    "import numpy as np\n",
    "from sklearn.svm import SVC\n",
    "from sklearn import datasets\n",
    "from collections import Counter\n",
    "from skimage.feature import hog\n",
    "from sklearn import preprocessing\n",
    "from skimage import data\n",
    "from sklearn.externals import joblib\n",
    "\n",
    "import keras\n",
    "from keras import backend as K\n",
    "from keras import applications\n",
    "from keras.models import Sequential\n",
    "from keras.datasets import mnist\n",
    "from keras.layers import Dense, Dropout, Flatten, Activation, BatchNormalization\n",
    "from keras.layers import Conv2D, MaxPooling2D\n",
    "from keras.utils.np_utils import to_categorical\n",
    "from keras.applications.vgg16 import preprocess_input\n",
    "from keras.preprocessing import image\n",
    "from keras.utils import to_categorical\n",
    "\n",
    "from sklearn.cross_validation import train_test_split\n",
    "from sklearn.linear_model import LogisticRegression, LogisticRegressionCV\n",
    "\n",
    "\n",
    "from matplotlib import pyplot as plt\n",
    "%matplotlib auto\n",
    "\n",
    "pp = pprint.PrettyPrinter(indent=4)\n",
    "n = 12\n",
    "l = 256\n",
    "np.random.seed(1)"
   ]
  },
  {
   "cell_type": "code",
   "execution_count": 4,
   "metadata": {
    "collapsed": false
   },
   "outputs": [],
   "source": [
    "clf, pp = joblib.load(\"digits_cls.pkl\")\n",
    "model = keras.models.load_model('./digits_cnn')\n",
    "\n",
    "imgs = [1,6,12,21,41,42,51,52,56,83,84,89,90,96,97,106,123,131,136,152,153,156,157] #7, 22"
   ]
  },
  {
   "cell_type": "code",
   "execution_count": 139,
   "metadata": {
    "collapsed": false
   },
   "outputs": [],
   "source": [
    "def calc_hog_feats(rect, roi):\n",
    "    # Make the rectangular region around the digit\n",
    "    leng = int(rect[3] * 1.6)\n",
    "    pt1 = int(rect[1] + rect[3] // 2 - leng // 2)\n",
    "    pt2 = int(rect[0] + rect[2] // 2 - leng // 2)\n",
    "\n",
    "    # todo\n",
    "    if roi.shape[0] == 0 or roi.shape[1] == 0: return False\n",
    "\n",
    "    # Resize the image\n",
    "    roi = cv2.resize(roi, (28, 28), interpolation=cv2.INTER_AREA)\n",
    "    roi = cv2.dilate(roi, (3, 3))\n",
    "\n",
    "    # Calculate the HOG features\n",
    "    roi_hog_fd = hog(roi, orientations=9, pixels_per_cell=(14, 14), cells_per_block=(1, 1), visualise=False)\n",
    "    roi_hog_fd = pp.transform(np.array([roi_hog_fd], 'float64'))\n",
    "    \n",
    "    return roi_hog_fd"
   ]
  },
  {
   "cell_type": "code",
   "execution_count": 265,
   "metadata": {
    "collapsed": false
   },
   "outputs": [],
   "source": [
    "from collections import deque\n",
    "\n",
    "def sort_rects(rects_ctrs):\n",
    "    rects_sort = sorted(rects_ctrs, key=lambda r: r[0][0])\n",
    "    \n",
    "    result = []\n",
    "    for rect in rects_sort:\n",
    "        # Filter to only rects with overlap of > 1/3 of target height\n",
    "        rects_sort_filt = filter(lambda x: calc_overlap(x[0], rect[0]) > (x[0][3] / 3.0), rects_sort)\n",
    "        result += rects_sort_filt\n",
    "        rects_sort = filter(lambda x: x not in rects_sort_filt, rects_sort)\n",
    "        \n",
    "    return zip(*result)\n",
    "    \n",
    "        \n",
    "def calc_overlap(rect_1, rect_2):\n",
    "    rect_1_x = rect_1[0]\n",
    "    rect_1_y = rect_1[1]\n",
    "    rect_1_width = rect_1[2]\n",
    "    rect_1_height = rect_1[3]\n",
    "    \n",
    "    rect_2_x = rect_2[0]\n",
    "    rect_2_y = rect_2[1]\n",
    "    rect_2_width = rect_2[2]\n",
    "    rect_2_height = rect_2[3]\n",
    "    \n",
    "    overlap = min(rect_1_y + rect_1_height, rect_2_y + rect_2_height) - max(rect_1_y, rect_2_y)\n",
    "    return overlap"
   ]
  },
  {
   "cell_type": "code",
   "execution_count": 291,
   "metadata": {
    "collapsed": false,
    "scrolled": false
   },
   "outputs": [],
   "source": [
    "def extract_numbers(fname, thresh=80, blur=False):\n",
    "    result = []\n",
    "    \n",
    "    im = scipy.misc.imread(fname)[580:880,440:980]\n",
    "    im = im.astype(np.uint8)\n",
    "\n",
    "    # Convert to grayscale and apply Gaussian filtering\n",
    "    im_gray = cv2.cvtColor(im, cv2.COLOR_BGR2GRAY)\n",
    "    im_gray = (255 - im_gray)\n",
    "    if blur:\n",
    "        im_gray = cv2.GaussianBlur(im_gray, (5, 5), 0)\n",
    "\n",
    "    # Threshold the image\n",
    "    ret, im_th = cv2.threshold(im_gray, thresh, 255, cv2.THRESH_BINARY)\n",
    "\n",
    "    # Find contours in the image\n",
    "    ctrs = cv2.findContours(im_th, cv2.RETR_EXTERNAL, cv2.CHAIN_APPROX_SIMPLE)\n",
    "\n",
    "    # Get contour bounding boxes\n",
    "    rects = [cv2.boundingRect(ctr) for ctr in ctrs[1]]\n",
    "    print(len(rects), len(ctrs[1]))\n",
    "    \n",
    "    sorted_rects, sorted_ctrs = sort_rects(zip(rects, ctrs[1]))\n",
    "    print(len(sorted_rects), len(sorted_ctrs))\n",
    "\n",
    "    probs = []\n",
    "    date_possibs = []\n",
    "    cur_date_possib = []\n",
    "    prev_end_x = sorted_rects[0][0] + sorted_rects[0][2]\n",
    "    prev_end_y = sorted_rects[0][1] + sorted_rects[0][3]\n",
    "\n",
    "    # For each rectangular region, predict the digit using classifier\n",
    "    for i, rect in enumerate(sorted_rects):\n",
    "        x_start = rect[0]\n",
    "        y_start = rect[1]\n",
    "        width = rect[2]\n",
    "        height = rect[3]\n",
    "\n",
    "        # Skip short artifacts\n",
    "        if height < 10: continue\n",
    "\n",
    "        im_th = im_th.astype(np.float64)\n",
    "        im_roi = im_th[y_start : y_start + height, x_start : x_start + width]\n",
    "\n",
    "        mask = np.zeros((height, width)).astype(np.uint8)\n",
    "        mask = cv2.drawContours(mask, sorted_ctrs, i, (255, 255, 255), cv2.FILLED, offset=(-x_start, -y_start))\n",
    "        roi = cv2.bitwise_and(mask.astype(np.uint8), im_roi.astype(np.uint8)).astype(np.uint8)\n",
    "\n",
    "        # CNN\n",
    "        if height < width:\n",
    "            padding = int((width - height) / 2.0)\n",
    "            roi_pad = np.pad(roi, (padding, padding), 'constant', constant_values=(0, 0))\n",
    "        elif width < height:\n",
    "            padding = int((height - width) / 2.0)\n",
    "            roi_pad = np.pad(roi, (padding, padding), 'constant', constant_values=(0, 0))\n",
    "        else:\n",
    "            roi_pad = roi\n",
    "        roi_pad = np.pad(roi_pad, (5, 5), 'constant', constant_values=(0, 0))\n",
    "            \n",
    "\n",
    "        roi_resized = cv2.resize(roi_pad, (28,28), interpolation=cv2.INTER_NEAREST)\n",
    "        \n",
    "        roi_cnn = np.expand_dims(roi_resized, axis=2)\n",
    "        prob = model.predict_proba(np.array([roi_cnn]), verbose=0)\n",
    "        nbr = np.argmax(prob)\n",
    "        nbr_prob = prob[0]\n",
    "\n",
    "        # SVM w. HOG feats\n",
    "#         roi_hog_fd = calc_hog_feats(rect, roi)\n",
    "#         if not hasattr(roi_hog_fd, 'shape'): continue\n",
    "#         nbr = clf.predict(roi_hog_fd)\n",
    "#         # Dummy prob\n",
    "#         nbr_prob = 0\n",
    "\n",
    "        if x_start - prev_end_x < 80 and y_start - prev_end_y < 80:\n",
    "            cur_date_possib.append(nbr)\n",
    "        else:\n",
    "            date_possibs.append(cur_date_possib)\n",
    "            cur_date_possib = [nbr]\n",
    "\n",
    "        prev_end_x = x_start\n",
    "        prev_end_y = y_start\n",
    "\n",
    "        cv2.rectangle(im, (rect[0], rect[1]), (rect[0] + rect[2], rect[1] + rect[3]), (0, 100, 255), 1)\n",
    "        cv2.putText(im, str(int(nbr)), (rect[0], rect[1]), cv2.FONT_ITALIC, 0.4, (0, 0, 255), 1)\n",
    "        \n",
    "        # Only add if we are confident\n",
    "#         class_prob = np.max(prob)\n",
    "#         if class_prob > .9:\n",
    "#         probs.append(class_prob)\n",
    "        probs.append(0)\n",
    "        result.append((roi_resized, nbr))\n",
    "\n",
    "    date_possibs.append(cur_date_possib)\n",
    "    plt.imshow(im)\n",
    "    plt.show()\n",
    "    return result, date_possibs, probs"
   ]
  },
  {
   "cell_type": "code",
   "execution_count": 292,
   "metadata": {
    "collapsed": false,
    "scrolled": false
   },
   "outputs": [
    {
     "name": "stdout",
     "output_type": "stream",
     "text": [
      "(155, 155)\n",
      "(155, 155)\n"
     ]
    }
   ],
   "source": [
    "filenames = ['../data/gels_nov_2016/Im{} - p. {}.png'.format(i, i) for i in imgs][2:3]\n",
    "results = [extract_numbers(f) for f in filenames]\n",
    "res = [x[0] for x in results]\n",
    "all_date_possibs = [x[1] for x in results]\n",
    "probs = [x[2] for x in results]"
   ]
  },
  {
   "cell_type": "code",
   "execution_count": 207,
   "metadata": {
    "collapsed": false
   },
   "outputs": [
    {
     "data": {
      "text/plain": [
       "['../data/gels_nov_2016/Im12 - p. 12.png']"
      ]
     },
     "execution_count": 207,
     "metadata": {},
     "output_type": "execute_result"
    }
   ],
   "source": [
    "filenames"
   ]
  },
  {
   "cell_type": "code",
   "execution_count": 24,
   "metadata": {
    "collapsed": false
   },
   "outputs": [],
   "source": [
    "def plot_things(things, labels):\n",
    "    count = len(things)\n",
    "    plt.figure(figsize=(50, 50))\n",
    "    \n",
    "    plt.axis('off')\n",
    "    plt.xticks([])\n",
    "    plt.yticks([])\n",
    "    for i, thing in enumerate(things):\n",
    "        cols = 15\n",
    "        rows = int(count / cols) + 1\n",
    "        ax = plt.subplot(rows, cols, 1 + i)\n",
    "        \n",
    "        ax.set_xticklabels([])\n",
    "        ax.set_yticklabels([])\n",
    "        ax.set_title(labels[i])\n",
    "\n",
    "        plt.imshow(thing)"
   ]
  },
  {
   "cell_type": "code",
   "execution_count": 275,
   "metadata": {
    "collapsed": false
   },
   "outputs": [],
   "source": [
    "plt.imshow(scipy.misc.imread(filenames[0]))#[580:880,440:980])\n",
    "plt.show()"
   ]
  },
  {
   "cell_type": "code",
   "execution_count": 293,
   "metadata": {
    "collapsed": false
   },
   "outputs": [],
   "source": [
    "rois_flat = [x[0] for sub in res for x in sub]\n",
    "nbrs_flat = [x[1] for sub in res for x in sub]\n",
    "probs_flat = [x for sub in probs for x in sub]\n",
    "\n",
    "titles = ['{} {:.0%}'.format(x, y) for x, y in zip(nbrs_flat, probs_flat)]\n",
    "\n",
    "i = 0\n",
    "s = slice(i, i + 10)\n",
    "plot_things(rois_flat[s], titles[s])"
   ]
  },
  {
   "cell_type": "code",
   "execution_count": 89,
   "metadata": {
    "collapsed": false
   },
   "outputs": [
    {
     "data": {
      "text/plain": [
       "(140, 10)"
      ]
     },
     "execution_count": 89,
     "metadata": {},
     "output_type": "execute_result"
    }
   ],
   "source": [
    "len(rois_flat), len(all_date_possibs)"
   ]
  },
  {
   "cell_type": "code",
   "execution_count": 109,
   "metadata": {
    "collapsed": false
   },
   "outputs": [
    {
     "data": {
      "text/plain": [
       "[[[0, 6],\n",
       "  [3, 9, 2],\n",
       "  [6, 0, 7, 2],\n",
       "  [6, 3],\n",
       "  [2, 2, 2, 2, 3, 2, 9, 5],\n",
       "  [2, 8],\n",
       "  [5, 5, 8],\n",
       "  [2, 9],\n",
       "  [8],\n",
       "  [6, 8],\n",
       "  [2, 5],\n",
       "  [3, 8, 6, 8],\n",
       "  [2, 7],\n",
       "  [8, 8, 3, 8, 9, 1, 1, 6]]]"
      ]
     },
     "execution_count": 109,
     "metadata": {},
     "output_type": "execute_result"
    }
   ],
   "source": [
    "import re\n",
    "from datetime import datetime\n",
    "\n",
    "date_regex = r'([01]?[0-9])1?([0-3]?[0-9])1?([0-9]{2,4})'\n",
    "\n",
    "# Filter matches to ones with b/w 6 and 8 characters\n",
    "all_d = [filter(lambda x: len(x) > 4 and len(x) < 11, date_possibs) for date_possibs in all_date_possibs]\n",
    "\n",
    "# Concatenate digit lists into strings\n",
    "all_d_cat = [''.join([str(v) for v in x]) for d in all_d for x in d]\n",
    "\n",
    "# Filter out matches with date_regex\n",
    "all_d_filt = [filter(lambda x: re.match(date_regex, x), d) for d in all_d_cat]\n",
    "\n",
    "# Extract date groups\n",
    "all_d_match = [map(lambda x: re.search(date_regex, x).groups(), d) for d in all_d_filt]\n",
    "\n",
    "# Take 0th elem\n",
    "the_d = [d_match[0] if len(d_match) else None for d_match in all_d_match]\n",
    "\n",
    "# Date objs\n",
    "dates = [datetime(int('20' + d[2]), int(d[0]), int(d[1])) if d else None for d in the_d]\n",
    "\n",
    "# Formatted\n",
    "dates = [d.strftime('%Y-%m-%d') if d else None for d in dates]\n",
    "\n",
    "all_date_possibs"
   ]
  },
  {
   "cell_type": "code",
   "execution_count": null,
   "metadata": {
    "collapsed": false
   },
   "outputs": [],
   "source": [
    "from skimage.feature import ORB, match_descriptors\n",
    "from skimage.transform import ProjectiveTransform, AffineTransform\n",
    "from skimage.measure import ransac\n",
    "\n",
    "from skimage.color import gray2rgb\n",
    "from skimage.exposure import rescale_intensity\n",
    "from skimage.transform import warp\n",
    "from skimage.transform import SimilarityTransform"
   ]
  },
  {
   "cell_type": "code",
   "execution_count": null,
   "metadata": {
    "collapsed": false
   },
   "outputs": [],
   "source": [
    "def add_alpha(image, background=-1):\n",
    "    \"\"\"Add an alpha layer to the image.\n",
    "\n",
    "    The alpha layer is set to 1 for foreground\n",
    "    and 0 for background.\n",
    "    \"\"\"\n",
    "    rgb = gray2rgb(image)\n",
    "    alpha = (image != background)\n",
    "    return np.dstack((rgb, alpha))"
   ]
  },
  {
   "cell_type": "code",
   "execution_count": null,
   "metadata": {
    "collapsed": false
   },
   "outputs": [],
   "source": [
    "image0_alpha = add_alpha(im[:,:,2])\n",
    "image1_alpha = add_alpha(im_th)\n",
    "\n",
    "merged = (im[:,:,1] + im_th)\n",
    "alpha = merged[..., 3]\n",
    "\n",
    "# The summed alpha layers give us an indication of\n",
    "# how many images were combined to make up each\n",
    "# pixel. Divide by the number of images to get\n",
    "# an average.\n",
    "merged /= np.maximum(alpha, 1)[..., np.newaxis]\n",
    "\n",
    "plt.imshow(merged)"
   ]
  },
  {
   "cell_type": "code",
   "execution_count": null,
   "metadata": {
    "collapsed": false
   },
   "outputs": [],
   "source": [
    "plt.imshow(im)"
   ]
  },
  {
   "cell_type": "code",
   "execution_count": null,
   "metadata": {
    "collapsed": false
   },
   "outputs": [],
   "source": []
  }
 ],
 "metadata": {
  "kernelspec": {
   "display_name": "tfkernel",
   "language": "python",
   "name": "tfkernel"
  },
  "language_info": {
   "codemirror_mode": {
    "name": "ipython",
    "version": 2
   },
   "file_extension": ".py",
   "mimetype": "text/x-python",
   "name": "python",
   "nbconvert_exporter": "python",
   "pygments_lexer": "ipython2",
   "version": "2.7.10"
  }
 },
 "nbformat": 4,
 "nbformat_minor": 2
}

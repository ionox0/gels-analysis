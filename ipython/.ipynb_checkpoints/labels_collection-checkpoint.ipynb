{
 "cells": [
  {
   "cell_type": "code",
   "execution_count": 1,
   "metadata": {
    "collapsed": false
   },
   "outputs": [],
   "source": [
    "import numpy as np\n",
    "import pandas as pd\n",
    "from datetime import datetime\n",
    "\n",
    "pd.options.display.max_columns = 9999\n",
    "pd.options.display.max_rows = 9999"
   ]
  },
  {
   "cell_type": "code",
   "execution_count": 204,
   "metadata": {
    "collapsed": false
   },
   "outputs": [],
   "source": [
    "# Read Excel File\n",
    "labels_full = pd.read_excel('../data/2012-2017_labels.xlsx', sheetname='2016')\n",
    "\n",
    "# Drop Missing all\n",
    "labels_full = labels_full.dropna(axis=1, how='all')\n",
    "\n",
    "# Why is 4-25 2, 3, 0, 4?\n",
    "# What does '0' signify?\n",
    "# What does 'o' signify?"
   ]
  },
  {
   "cell_type": "code",
   "execution_count": 205,
   "metadata": {
    "collapsed": false,
    "scrolled": false
   },
   "outputs": [],
   "source": [
    "def get_labels(start_date, end_date):\n",
    "    labels = labels_full.copy()\n",
    "    # Take SPEP Cols, not IFE\n",
    "    serum_cols = labels.columns.str.contains('SPEP')\n",
    "    cols = labels.columns[serum_cols]\n",
    "\n",
    "    labels = labels.reset_index()\n",
    "    # Take just PEP #1 for each date (todo - no hard coding plz)\n",
    "    labels = labels.loc[:30, cols]\n",
    "    # Use DATE row as column indices\n",
    "    labels.columns = pd.to_datetime(labels.loc[0,:], errors='coerce')\n",
    "    # Drop DATE, and Gel # rows (todo - ditto)\n",
    "    labels.drop(labels.index[:2], inplace=True)\n",
    "    \n",
    "    # shift index to align with first control lane (#2)\n",
    "    ctrl_lane_idx = labels.iloc[:,1].first_valid_index()\n",
    "    shift_val = ctrl_lane_idx - 2\n",
    "    labels = labels.set_index(labels.index - shift_val)\n",
    "    \n",
    "    labels = labels.loc[:,start_date : end_date]\n",
    "    return labels"
   ]
  },
  {
   "cell_type": "code",
   "execution_count": 206,
   "metadata": {
    "collapsed": false,
    "scrolled": true
   },
   "outputs": [],
   "source": [
    "def get_dz_labels(labels):\n",
    "    dz_labels = {}\n",
    "    for col in labels.columns:\n",
    "        date = col.strftime('%Y-%m-%d')\n",
    "        inds = labels[col].index.values\n",
    "        dz = inds[labels[col].notnull().tolist()].tolist()\n",
    "        dz_labels[date] = dz\n",
    "    return dz_labels"
   ]
  },
  {
   "cell_type": "code",
   "execution_count": 208,
   "metadata": {
    "collapsed": false,
    "scrolled": false
   },
   "outputs": [],
   "source": [
    "april_2016_labels = get_labels(datetime(2016, 4, 1), datetime(2016, 4, 30))\n",
    "april_2016_dz_labels = get_dz_labels(april_2016_labels)\n",
    "\n",
    "nov_2016_labels = get_labels(datetime(2016, 8, 1), datetime(2016, 8, 30))\n",
    "nov_2016_dz_labels = get_dz_labels(nov_2016_labels)"
   ]
  },
  {
   "cell_type": "code",
   "execution_count": null,
   "metadata": {
    "collapsed": true
   },
   "outputs": [],
   "source": []
  }
 ],
 "metadata": {
  "kernelspec": {
   "display_name": "cv",
   "language": "python",
   "name": "cv"
  },
  "language_info": {
   "codemirror_mode": {
    "name": "ipython",
    "version": 2
   },
   "file_extension": ".py",
   "mimetype": "text/x-python",
   "name": "python",
   "nbconvert_exporter": "python",
   "pygments_lexer": "ipython2",
   "version": "2.7.13"
  }
 },
 "nbformat": 4,
 "nbformat_minor": 2
}

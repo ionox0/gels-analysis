{
 "cells": [
  {
   "cell_type": "code",
   "execution_count": 1,
   "metadata": {},
   "outputs": [
    {
     "name": "stderr",
     "output_type": "stream",
     "text": [
      "Using TensorFlow backend.\n"
     ]
    }
   ],
   "source": [
    "import matplotlib\n",
    "matplotlib.use('Agg')\n",
    "\n",
    "import cv2\n",
    "import scipy\n",
    "import pprint\n",
    "import random\n",
    "import itertools\n",
    "import numpy as np\n",
    "from sklearn.svm import SVC\n",
    "from sklearn import datasets\n",
    "from collections import Counter\n",
    "from skimage.feature import hog\n",
    "from sklearn import preprocessing\n",
    "from skimage import data\n",
    "import keras\n",
    "from sklearn.externals import joblib"
   ]
  },
  {
   "cell_type": "code",
   "execution_count": 2,
   "metadata": {},
   "outputs": [
    {
     "name": "stdout",
     "output_type": "stream",
     "text": [
      "Using matplotlib backend: TkAgg\n"
     ]
    }
   ],
   "source": [
    "from matplotlib import pyplot as plt\n",
    "\n",
    "%matplotlib auto"
   ]
  },
  {
   "cell_type": "code",
   "execution_count": 3,
   "metadata": {
    "collapsed": true
   },
   "outputs": [],
   "source": [
    "from sklearn.datasets import fetch_mldata\n",
    "\n",
    "mnist = fetch_mldata('MNIST original')\n",
    "data = mnist.data\n",
    "target = mnist.target"
   ]
  },
  {
   "cell_type": "code",
   "execution_count": 4,
   "metadata": {},
   "outputs": [
    {
     "data": {
      "text/plain": [
       "70000"
      ]
     },
     "execution_count": 4,
     "metadata": {},
     "output_type": "execute_result"
    }
   ],
   "source": [
    "len(data)"
   ]
  },
  {
   "cell_type": "code",
   "execution_count": 5,
   "metadata": {
    "collapsed": true
   },
   "outputs": [],
   "source": [
    "def plot_things(things, labels):\n",
    "    count = len(things)\n",
    "    plt.figure(figsize=(20, 20))\n",
    "    \n",
    "    plt.axis('off')\n",
    "    plt.xticks([])\n",
    "    plt.yticks([])\n",
    "    for i, thing in enumerate(things):\n",
    "        cols = 10\n",
    "        rows = int(count / cols) + 1\n",
    "        ax = plt.subplot(rows, cols, 1 + i)\n",
    "        \n",
    "        ax.set_xticklabels([])\n",
    "        ax.set_yticklabels([])\n",
    "        ax.set_title(labels[i])\n",
    "\n",
    "        plt.imshow(thing)\n",
    "    plt.show()"
   ]
  },
  {
   "cell_type": "markdown",
   "metadata": {},
   "source": [
    "# Generating 2-digit combinations"
   ]
  },
  {
   "cell_type": "code",
   "execution_count": 19,
   "metadata": {
    "collapsed": true,
    "scrolled": false
   },
   "outputs": [],
   "source": [
    "import random\n",
    "from skimage.filters import threshold_otsu\n",
    "\n",
    "def random_combination(iterable, r):\n",
    "    pool = tuple(iterable)\n",
    "    n = len(pool)\n",
    "    indices = sorted(random.sample(xrange(n), r))\n",
    "    return tuple(pool[i] for i in indices)\n",
    "\n",
    "def remove_border(img):\n",
    "    where = np.where(img > 0)\n",
    "    y1 = np.min(where[0])\n",
    "    y2 = np.max(where[0])\n",
    "    x1 = np.min(where[1])\n",
    "    x2 = np.max(where[1])\n",
    "    crop = img[y1:y2 , x1:x2]\n",
    "    return crop\n",
    "\n",
    "n_samples = 1000000\n",
    "combs = []\n",
    "combs_labels = []\n",
    "data_w_labels = zip(data, target)\n",
    "random.shuffle(data_w_labels)\n",
    "\n",
    "for i in range(n_samples):\n",
    "    comb = random_combination(data_w_labels, 2)\n",
    "    \n",
    "    first_digit = comb[0][0].reshape((28, 28))\n",
    "    second_digit = comb[1][0].reshape((28, 28))\n",
    "\n",
    "#     thresh = threshold_otsu(first_digit)\n",
    "#     first_digit = (first_digit > thresh).astype(np.uint8)\n",
    "    \n",
    "#     thresh = threshold_otsu(second_digit)\n",
    "#     second_digit = (second_digit > thresh).astype(np.uint8)\n",
    "    \n",
    "    first_mod = remove_border(first_digit)\n",
    "    second_mod = remove_border(second_digit)\n",
    "    \n",
    "    # Make sure height diff is divisible by 2\n",
    "    if not (first_mod.shape[0] % 2 == 0):\n",
    "        first_mod = np.vstack([first_mod, np.zeros((1, first_mod.shape[1]))])\n",
    "    if not (second_mod.shape[0] % 2 == 0):\n",
    "        second_mod = np.vstack([second_mod, np.zeros((1, second_mod.shape[1]))])\n",
    "    \n",
    "    height_diff = first_mod.shape[0] - second_mod.shape[0]\n",
    "    \n",
    "    if height_diff < 0:\n",
    "        padding = int(-height_diff / 2.0)\n",
    "        thepad = np.zeros((padding, first_mod.shape[1]))\n",
    "        first_mod = np.vstack([first_mod, thepad])\n",
    "        first_mod = np.vstack([thepad, first_mod])\n",
    "    elif height_diff > 0:\n",
    "        padding = int(height_diff / 2.0)\n",
    "        thepad = np.zeros((padding, second_mod.shape[1]))\n",
    "        second_mod = np.vstack([second_mod, thepad])\n",
    "        second_mod = np.vstack([thepad, second_mod])\n",
    "    \n",
    "    # Align width\n",
    "    overlap = 1\n",
    "    \n",
    "    height = first_mod.shape[0]\n",
    "    width_1 = first_mod.shape[1]\n",
    "    width_2 = second_mod.shape[1]\n",
    "    \n",
    "    padding = np.zeros((height, width_2 - overlap))\n",
    "    first_mod = np.hstack([first_mod, padding])\n",
    "    padding = np.zeros((height, width_1 - overlap))\n",
    "    second_mod = np.hstack([padding, second_mod])\n",
    "    \n",
    "    overlapped = first_mod.astype(np.uint64) + second_mod.astype(np.uint64)\n",
    "    overlapped = np.clip(overlapped, 0, 255).astype(np.uint8)\n",
    "    padded = np.pad(overlapped, (5, 5), 'constant', constant_values=(0, 0))  \n",
    "    \n",
    "#     binary = (padded > 0).astype(np.uint8)\n",
    "    combs.append(padded)\n",
    "    \n",
    "    label = int(  str(int(comb[0][1])) + str(int(comb[1][1]))  )\n",
    "    combs_labels.append( label )\n",
    "    \n",
    "# combs = np.array(combs)\n",
    "combs_labels = np.array(combs_labels)"
   ]
  },
  {
   "cell_type": "code",
   "execution_count": 20,
   "metadata": {
    "collapsed": true
   },
   "outputs": [],
   "source": [
    "combs_reshaped = [cv2.resize(x, (38, 28)) for x in combs]"
   ]
  },
  {
   "cell_type": "code",
   "execution_count": 21,
   "metadata": {},
   "outputs": [
    {
     "data": {
      "text/plain": [
       "1000000"
      ]
     },
     "execution_count": 21,
     "metadata": {},
     "output_type": "execute_result"
    }
   ],
   "source": [
    "len(combs_reshaped)"
   ]
  },
  {
   "cell_type": "code",
   "execution_count": 18,
   "metadata": {
    "collapsed": true
   },
   "outputs": [],
   "source": [
    "i = 50\n",
    "plot_things(combs_reshaped[i:i + 50], combs_labels[i:i + 50])"
   ]
  },
  {
   "cell_type": "markdown",
   "metadata": {},
   "source": [
    "# Train Classifier"
   ]
  },
  {
   "cell_type": "code",
   "execution_count": null,
   "metadata": {},
   "outputs": [],
   "source": [
    "from sklearn.cross_validation import train_test_split\n",
    "from keras.utils.np_utils import to_categorical\n",
    "\n",
    "# Extract the features and labels\n",
    "combs_np = np.array(combs_reshaped)\n",
    "features = np.expand_dims(combs_np.reshape(1000000, 28, 38), axis=3)\n",
    "labels = to_categorical(combs_labels)\n",
    "\n",
    "x_train, y_train, x_test, y_test = train_test_split(features, labels)"
   ]
  },
  {
   "cell_type": "code",
   "execution_count": 23,
   "metadata": {
    "collapsed": true
   },
   "outputs": [],
   "source": [
    "import keras\n",
    "from keras import applications\n",
    "from keras.models import Sequential\n",
    "from keras.datasets import mnist\n",
    "from keras.layers import Dense, Dropout, Flatten, Activation, BatchNormalization\n",
    "from keras.layers import Conv2D, MaxPooling2D\n",
    "from keras import backend as K\n",
    "\n",
    "\n",
    "def get_model():\n",
    "    model = Sequential()\n",
    "\n",
    "    model.add(Conv2D(32, (3,3), input_shape=(28, 38, 1), padding='same'))\n",
    "    model.add(BatchNormalization())\n",
    "    model.add(Activation('relu'))\n",
    "    model.add(Conv2D(32, (3, 3)))\n",
    "    model.add(BatchNormalization())\n",
    "    model.add(Activation('relu'))\n",
    "    model.add(MaxPooling2D(pool_size=(2, 2)))\n",
    "    model.add(Dropout(0.25))\n",
    "\n",
    "    model.add(Conv2D(64, (3, 3), padding='same'))\n",
    "    model.add(BatchNormalization())\n",
    "    model.add(Activation('relu'))\n",
    "    model.add(Conv2D(64, (3, 3)))\n",
    "    model.add(BatchNormalization())\n",
    "    model.add(Activation('relu'))\n",
    "    model.add(MaxPooling2D(pool_size=(2, 2)))\n",
    "    model.add(Dropout(0.25))\n",
    "\n",
    "    model.add(Flatten())\n",
    "    model.add(Dense(512))\n",
    "    model.add(Activation('relu'))\n",
    "    model.add(Dropout(0.5))\n",
    "    model.add(Dense(100))\n",
    "    model.add(Activation('softmax'))\n",
    "\n",
    "    model.compile(loss=keras.losses.categorical_crossentropy,\n",
    "                  optimizer=keras.optimizers.Adadelta(),\n",
    "                  metrics=['accuracy'])\n",
    "    return model\n",
    "\n",
    "\n",
    "batch_size = 512\n",
    "num_classes = 10\n",
    "epochs = 7\n",
    "\n",
    "model = get_model()"
   ]
  },
  {
   "cell_type": "code",
   "execution_count": null,
   "metadata": {},
   "outputs": [
    {
     "name": "stdout",
     "output_type": "stream",
     "text": [
      "Train on 950000 samples, validate on 50000 samples\n",
      "Epoch 1/7\n",
      "950000/950000 [==============================] - 333s - loss: 0.5841 - acc: 0.8435 - val_loss: 0.0759 - val_acc: 0.9774\n",
      "Epoch 2/7\n",
      "950000/950000 [==============================] - 330s - loss: 0.1171 - acc: 0.9651 - val_loss: 0.0477 - val_acc: 0.9854\n",
      "Epoch 3/7\n",
      "950000/950000 [==============================] - 331s - loss: 0.0802 - acc: 0.9759 - val_loss: 0.0396 - val_acc: 0.9882\n",
      "Epoch 4/7\n",
      "950000/950000 [==============================] - 330s - loss: 0.0631 - acc: 0.9808 - val_loss: 0.0291 - val_acc: 0.9907\n",
      "Epoch 5/7\n",
      "950000/950000 [==============================] - 330s - loss: 0.0523 - acc: 0.9838 - val_loss: 0.0257 - val_acc: 0.9922\n",
      "Epoch 6/7\n",
      "950000/950000 [==============================] - 330s - loss: 0.0450 - acc: 0.9861 - val_loss: 0.0237 - val_acc: 0.9925\n",
      "Epoch 7/7\n",
      "879104/950000 [==========================>...] - ETA: 24s - loss: 0.0397 - acc: 0.9877"
     ]
    }
   ],
   "source": [
    "earlyStopping=keras.callbacks.EarlyStopping(monitor='val_loss', patience=0, verbose=0, mode='auto')\n",
    "\n",
    "history_bn = model.fit(\n",
    "    features,\n",
    "    labels,\n",
    "    validation_split=0.05,\n",
    "    batch_size=batch_size,\n",
    "    callbacks=[earlyStopping], \n",
    "    epochs=epochs\n",
    ")\n",
    "\n",
    "# Save the classifier\n",
    "model.save(filepath='./double_digits_cnn_nonbinary')"
   ]
  },
  {
   "cell_type": "markdown",
   "metadata": {},
   "source": [
    "# Test on Gels"
   ]
  },
  {
   "cell_type": "code",
   "execution_count": 12,
   "metadata": {},
   "outputs": [],
   "source": [
    "clf, pp = joblib.load(\"digits_cls.pkl\")\n",
    "model = keras.models.load_model('./double_digits_cnn_nonbinary')\n",
    "model_single = keras.models.load_model('./digits_cnn')"
   ]
  },
  {
   "cell_type": "code",
   "execution_count": 5,
   "metadata": {
    "collapsed": true
   },
   "outputs": [],
   "source": [
    "def sort_rects(rects_ctrs):\n",
    "    rects_sort = sorted(rects_ctrs, key=lambda r: r[0][0])\n",
    "    \n",
    "    result = []\n",
    "    for rect in rects_sort:\n",
    "        # Filter to only rects with overlap of > 1/3 of target height\n",
    "        rects_sort_filt = filter(lambda x: calc_overlap(x[0], rect[0]) > (x[0][3] / 3.0) and abs(x[0][3] - rect[0][3]) < (x[0][3]), rects_sort)\n",
    "        rects_sort_filt = sorted(rects_sort_filt, key=lambda r: r[0][0])\n",
    "        result += rects_sort_filt\n",
    "        for rect_sorted in rects_sort_filt:\n",
    "            rects_sort.remove(rect_sorted)\n",
    "        \n",
    "    return zip(*result)\n",
    "    \n",
    "\n",
    "def calc_overlap(rect_1, rect_2):\n",
    "    rect_1_x = rect_1[0]\n",
    "    rect_1_y = rect_1[1]\n",
    "    rect_1_width = rect_1[2]\n",
    "    rect_1_height = rect_1[3]\n",
    "    \n",
    "    rect_2_x = rect_2[0]\n",
    "    rect_2_y = rect_2[1]\n",
    "    rect_2_width = rect_2[2]\n",
    "    rect_2_height = rect_2[3]\n",
    "    \n",
    "    overlap = min(rect_1_y + rect_1_height, rect_2_y + rect_2_height) - max(rect_1_y, rect_2_y)\n",
    "    return overlap"
   ]
  },
  {
   "cell_type": "code",
   "execution_count": 129,
   "metadata": {
    "collapsed": true
   },
   "outputs": [],
   "source": [
    "def extract_numbers(im, thresh=30, blur=False):\n",
    "    im_one = im.astype(np.uint8)[:,:,2]\n",
    "\n",
    "    # Convert to grayscale\n",
    "    im_gray = cv2.cvtColor(im, cv2.COLOR_BGR2GRAY)\n",
    "    \n",
    "    # Invert the image\n",
    "    im_gray = (255 - im_one)\n",
    "    \n",
    "    # Optional Gaussian blur\n",
    "    if blur:\n",
    "        im_gray = cv2.GaussianBlur(im_gray, (5, 5), 0)\n",
    "\n",
    "    # Threshold the image\n",
    "    ret, im_th_all_colors = cv2.threshold(im_gray, thresh, 255, cv2.THRESH_BINARY)\n",
    "    \n",
    "    # Or try with specific threshold\n",
    "    lower, upper = boundaries['black']\n",
    "    lower = np.array(lower, dtype = \"uint8\")\n",
    "    upper = np.array(upper, dtype = \"uint8\")\n",
    "    mask = cv2.inRange(im, lower, upper)\n",
    "    im_th = cv2.bitwise_and(im, im, mask = mask).astype(np.uint8)\n",
    "    im_th = cv2.cvtColor(im_th, cv2.COLOR_BGR2GRAY)\n",
    "\n",
    "    # Find contours in the image\n",
    "    _, ctrs, hierarchy = cv2.findContours(im_th, cv2.RETR_CCOMP, cv2.CHAIN_APPROX_SIMPLE)\n",
    "    ctrs = [c for i, c in enumerate(ctrs) if hierarchy[0][i][-1] == -1]\n",
    "\n",
    "    # Get contour bounding boxes\n",
    "    rects = [cv2.boundingRect(ctr) for ctr in ctrs]\n",
    "    \n",
    "    # Sorted order of rois\n",
    "    sorted_rects, sorted_ctrs = sort_rects(zip(rects, ctrs))\n",
    "\n",
    "    rois = []\n",
    "    nbrs = []\n",
    "    probs = []\n",
    "    prev_not_one_width = 99999\n",
    "    date_possibs = []\n",
    "    cur_date_possib = []\n",
    "    prev_end_x = sorted_rects[0][0] + sorted_rects[0][2]\n",
    "    prev_end_y = sorted_rects[0][1] + sorted_rects[0][3]\n",
    "    \n",
    "    # For each rectangular region, predict the digit using classifier\n",
    "    for i, rect in enumerate(sorted_rects):\n",
    "        x_start = rect[0]\n",
    "        y_start = rect[1]\n",
    "        width = rect[2]\n",
    "        height = rect[3]\n",
    "\n",
    "        # Skip short artifacts\n",
    "        if height < 10: continue\n",
    "        # Skip long artifacts\n",
    "        if width > 100: continue\n",
    "\n",
    "        im_th_all_colors = im_th_all_colors.astype(np.float64)\n",
    "        im_roi = im_th_all_colors[y_start : y_start + height, x_start : x_start + width]\n",
    "\n",
    "        # Draw filled contours (removes overlapping items)\n",
    "        mask = np.zeros((height, width)).astype(np.uint8)\n",
    "        mask = cv2.drawContours(mask, sorted_ctrs, i, (255, 255, 255), cv2.FILLED, offset=(-x_start, -y_start))\n",
    "        roi = cv2.bitwise_and(mask.astype(np.uint8), im_roi.astype(np.uint8)).astype(np.uint8)\n",
    "\n",
    "        # Pad ROI to square\n",
    "        if height < width:\n",
    "            padding = int((width - height) / 2.0)\n",
    "            roi_pad = np.pad(roi, (padding, padding), 'constant', constant_values=(0, 0))\n",
    "        elif width < height:\n",
    "            padding = int((height - width) / 2.0)\n",
    "            roi_pad = np.pad(roi, (padding, padding), 'constant', constant_values=(0, 0))\n",
    "        else:\n",
    "            roi_pad = roi\n",
    "        roi_pad = np.pad(roi_pad, (5, 5), 'constant', constant_values=(0, 0))\n",
    "        \n",
    "        # Differentiate single from connected digits\n",
    "        if width > 1.25 * prev_not_one_width:\n",
    "            roi_resized = cv2.resize(roi_pad, (38 ,28), interpolation=cv2.INTER_NEAREST)\n",
    "            roi_cnn = np.expand_dims(roi_resized, axis=2)\n",
    "\n",
    "            prob = model.predict_proba(np.array([roi_cnn]), verbose=0)\n",
    "            nbr = np.argmax(prob)\n",
    "            nbr_prob = prob[0]\n",
    "        else:\n",
    "            roi_resized = cv2.resize(roi_pad, (28 ,28), interpolation=cv2.INTER_NEAREST)\n",
    "            roi_cnn = np.expand_dims(roi_resized, axis=2)\n",
    "\n",
    "            prob = model_single.predict_proba(np.array([roi_cnn]), verbose=0)\n",
    "            nbr = np.argmax(prob)\n",
    "            nbr_prob = prob[0]\n",
    "\n",
    "        # Add nbr to list, or create new date possib (for newlines)\n",
    "        if x_start - prev_end_x < 80 and y_start - prev_end_y < 80:\n",
    "            cur_date_possib.append(nbr)\n",
    "        else:\n",
    "            date_possibs.append(cur_date_possib)\n",
    "            cur_date_possib = [nbr]\n",
    "\n",
    "        prev_end_x = x_start\n",
    "        prev_end_y = y_start\n",
    "\n",
    "        # Mark the roi and label\n",
    "        cv2.rectangle(im, (rect[0], rect[1]), (rect[0] + rect[2], rect[1] + rect[3]), (0, 100, 255), 1)\n",
    "        cv2.putText(im, str(int(nbr)), (rect[0], rect[1]), cv2.FONT_ITALIC, 0.4, (0, 0, 255), 1)\n",
    "            \n",
    "        probs.append(0)\n",
    "        rois.append(roi_resized)\n",
    "        nbrs.append(nbr)   \n",
    "        \n",
    "        if nbr != 1:\n",
    "            prev_not_one_width = width\n",
    "       \n",
    "    # Append last date possibility\n",
    "    date_possibs.append(cur_date_possib)\n",
    "    \n",
    "    plt.imshow(im)\n",
    "    plt.show()\n",
    "    \n",
    "    return rois, nbrs, date_possibs, probs"
   ]
  },
  {
   "cell_type": "code",
   "execution_count": 134,
   "metadata": {
    "scrolled": true
   },
   "outputs": [],
   "source": [
    "imgs = [1,6,12,21,41,42,51,52,56,83,84,89,90,96,97,106,123,131,136,152,153,156,157] #7, 22\n",
    "filenames = ['../data/gels_nov_2016/Im{} - p. {}.png'.format(i, i) for i in imgs]\n",
    "images = [scipy.misc.imread(f) for f in filenames]\n",
    "\n",
    "boundaries = {\n",
    "#     ([30, 15, 20], [50, 40, 60]), # black ink\n",
    "    'black': ([0, 0, 0], [190, 190, 190]), # black ink\n",
    "    'blue': ([50, 31, 4], [85, 120, 180]), # blue dye\n",
    "}\n",
    "\n",
    "colors = []\n",
    "image = scipy.misc.imread(filenames[0])\n",
    "for bound in boundaries.keys():\n",
    "    lower, upper = boundaries[bound]\n",
    "    lower = np.array(lower, dtype=\"uint8\")\n",
    "    upper = np.array(upper, dtype=\"uint8\")\n",
    "\n",
    "    mask = cv2.inRange(image, lower, upper)\n",
    "    output = cv2.bitwise_and(image, image, mask = mask)\n",
    "    colors.append(output)   \n",
    "\n",
    "# im = scipy.misc.imread(filenames[8])#[580:880,440:980]   \n",
    "# roi = im[790:880,520:750]\n",
    "# imgs = [roi]\n",
    "\n",
    "# im = scipy.misc.imread(filenames[8])\n",
    "# roi = im[800:880,500:800]\n",
    "# imgs = [roi]\n",
    "\n",
    "results = [extract_numbers(i) for i in images[6:7]]"
   ]
  },
  {
   "cell_type": "code",
   "execution_count": 76,
   "metadata": {},
   "outputs": [
    {
     "data": {
      "text/plain": [
       "['../data/gels_nov_2016/Im83 - p. 83.png']"
      ]
     },
     "execution_count": 76,
     "metadata": {},
     "output_type": "execute_result"
    }
   ],
   "source": [
    "filenames[9:10]"
   ]
  },
  {
   "cell_type": "code",
   "execution_count": null,
   "metadata": {
    "collapsed": true
   },
   "outputs": [],
   "source": []
  }
 ],
 "metadata": {
  "kernelspec": {
   "display_name": "Python 2",
   "language": "python",
   "name": "python2"
  },
  "language_info": {
   "codemirror_mode": {
    "name": "ipython",
    "version": 2
   },
   "file_extension": ".py",
   "mimetype": "text/x-python",
   "name": "python",
   "nbconvert_exporter": "python",
   "pygments_lexer": "ipython2",
   "version": "2.7.6"
  }
 },
 "nbformat": 4,
 "nbformat_minor": 2
}

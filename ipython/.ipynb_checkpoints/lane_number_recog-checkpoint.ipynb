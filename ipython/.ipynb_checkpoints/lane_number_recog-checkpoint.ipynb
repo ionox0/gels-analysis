{
 "cells": [
  {
   "cell_type": "code",
   "execution_count": 2,
   "metadata": {
    "collapsed": false
   },
   "outputs": [],
   "source": [
    "# Import the modules\n",
    "import cv2\n",
    "from sklearn.externals import joblib\n",
    "from sklearn import datasets\n",
    "from skimage.feature import hog\n",
    "from sklearn.svm import SVC\n",
    "from sklearn import preprocessing\n",
    "import numpy as np\n",
    "from collections import Counter\n",
    "\n",
    "from matplotlib import pyplot as plt"
   ]
  },
  {
   "cell_type": "markdown",
   "metadata": {},
   "source": [
    "### https://arxiv.org/pdf/1702.00723.pdf"
   ]
  },
  {
   "cell_type": "code",
   "execution_count": 3,
   "metadata": {
    "collapsed": false
   },
   "outputs": [
    {
     "name": "stdout",
     "output_type": "stream",
     "text": [
      "('Count of digits in dataset', Counter({1: 7877, 7: 7293, 3: 7141, 2: 6990, 9: 6958, 0: 6903, 6: 6876, 8: 6825, 4: 6824, 5: 6313}))\n"
     ]
    },
    {
     "name": "stderr",
     "output_type": "stream",
     "text": [
      "/Users/ianjohnson/.virtualenvs/gels-analysis/lib/python2.7/site-packages/skimage/feature/_hog.py:119: skimage_deprecation: Default value of `block_norm`==`L1` is deprecated and will be changed to `L2-Hys` in v0.15\n",
      "  'be changed to `L2-Hys` in v0.15', skimage_deprecation)\n"
     ]
    },
    {
     "data": {
      "text/plain": [
       "['digits_cls.pkl']"
      ]
     },
     "execution_count": 3,
     "metadata": {},
     "output_type": "execute_result"
    }
   ],
   "source": [
    "# Load the dataset\n",
    "dataset = datasets.fetch_mldata(\"MNIST Original\")\n",
    "\n",
    "# Extract the features and labels\n",
    "features = np.array(dataset.data, 'int16')\n",
    "labels = np.array(dataset.target, 'int')\n",
    "\n",
    "# Extract the hog features\n",
    "list_hog_fd = []\n",
    "for feature in features:\n",
    "    fd = hog(feature.reshape((28, 28)), orientations=9, pixels_per_cell=(14, 14), cells_per_block=(1, 1), visualise=False)\n",
    "    list_hog_fd.append(fd)\n",
    "hog_features = np.array(list_hog_fd, 'float64')\n",
    "\n",
    "# Normalize the features\n",
    "pp = preprocessing.StandardScaler().fit(hog_features)\n",
    "hog_features = pp.transform(hog_features)\n",
    "print (\"Count of digits in dataset\", Counter(labels))\n",
    "\n",
    "clf = SVC(kernel='rbf')\n",
    "clf.fit(hog_features, labels)\n",
    "\n",
    "# Save the classifier\n",
    "joblib.dump((clf, pp), \"digits_cls.pkl\", compress=3)"
   ]
  },
  {
   "cell_type": "code",
   "execution_count": 5,
   "metadata": {
    "collapsed": false
   },
   "outputs": [
    {
     "name": "stdout",
     "output_type": "stream",
     "text": [
      "Hit space for next img\n"
     ]
    }
   ],
   "source": [
    "clf, pp = joblib.load(\"digits_cls.pkl\")\n",
    "\n",
    "imgs = [1,6,7,12,21]#,22,41,42,51,52,56,83,84,89,90,96,97,106,123,131,136,152,153,156,157]\n",
    "\n",
    "for i in imgs:\n",
    "    im = cv2.imread('../data/gels_nov_2016/Im{} - p. {}.png'.format(i, i))\n",
    "    \n",
    "    # Convert to grayscale and apply Gaussian filtering\n",
    "    im_gray = cv2.cvtColor(im, cv2.COLOR_BGR2GRAY)\n",
    "    im_gray = cv2.GaussianBlur(im_gray, (5, 5), 0)\n",
    "\n",
    "    # Threshold the image\n",
    "    ret, im_th = cv2.threshold(im_gray, 90, 255, cv2.THRESH_BINARY_INV)\n",
    "\n",
    "    # Find contours in the image\n",
    "    ctrs = cv2.findContours(im_th.copy(), cv2.RETR_EXTERNAL, cv2.CHAIN_APPROX_SIMPLE)\n",
    "\n",
    "    # Get rectangles contains each contour\n",
    "    rects = [cv2.boundingRect(ctr) for ctr in ctrs[1]]\n",
    "\n",
    "    # For each rectangular region, calculate HOG features and predict\n",
    "    # the digit using classifier.\n",
    "    for rect in rects:\n",
    "        # Draw the rectangles\n",
    "#         cv2.rectangle(im, (rect[0], rect[1]), (rect[0] + rect[2], rect[1] + rect[3]), (0, 255, 0), 3)\n",
    "\n",
    "        # Make the rectangular region around the digit\n",
    "        leng = int(rect[3] * 1.6)\n",
    "        pt1 = int(rect[1] + rect[3] // 2 - leng // 2)\n",
    "        pt2 = int(rect[0] + rect[2] // 2 - leng // 2)\n",
    "        roi = im_th[pt1:pt1+leng, pt2:pt2+leng]\n",
    "\n",
    "        if roi.shape[0] == 0 or roi.shape[1] == 0: continue\n",
    "        # Resize the image\n",
    "        roi = cv2.resize(roi, (28, 28), interpolation=cv2.INTER_AREA)\n",
    "        roi = cv2.dilate(roi, (3, 3))\n",
    "\n",
    "        # Calculate the HOG features\n",
    "        roi_hog_fd = hog(roi, orientations=9, pixels_per_cell=(14, 14), cells_per_block=(1, 1), visualise=False)\n",
    "        roi_hog_fd = pp.transform(np.array([roi_hog_fd], 'float64'))\n",
    "        nbr = clf.predict(roi_hog_fd)\n",
    "\n",
    "        cv2.putText(im, str(int(nbr[0])), (rect[0], rect[1]), cv2.FONT_ITALIC, 1, (0, 255, 255), 3)\n",
    "        # (img, text, org, fontFace, fontScale, color[, thickness[, lineType[, bottomLeftOrigin]]]) → None\n",
    "\n",
    "    plt.imshow(im)\n",
    "    plt.show(block=False)\n",
    "\n",
    "    answer = raw_input('Hit space for next img')\n",
    "    if answer == ' ':\n",
    "        plt.close()\n",
    "        continue\n",
    "    else:\n",
    "        break"
   ]
  },
  {
   "cell_type": "code",
   "execution_count": null,
   "metadata": {
    "collapsed": true
   },
   "outputs": [],
   "source": []
  }
 ],
 "metadata": {
  "kernelspec": {
   "display_name": "gels-analysis",
   "language": "python",
   "name": "gels-analysis"
  },
  "language_info": {
   "codemirror_mode": {
    "name": "ipython",
    "version": 2
   },
   "file_extension": ".py",
   "mimetype": "text/x-python",
   "name": "python",
   "nbconvert_exporter": "python",
   "pygments_lexer": "ipython2",
   "version": "2.7.13"
  }
 },
 "nbformat": 4,
 "nbformat_minor": 2
}

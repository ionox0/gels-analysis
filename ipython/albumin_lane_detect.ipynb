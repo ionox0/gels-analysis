{
 "cells": [
  {
   "cell_type": "code",
   "execution_count": 1,
   "metadata": {},
   "outputs": [],
   "source": [
    "import PyPDF2\n",
    "from PIL import Image\n",
    "\n",
    "import os\n",
    "import sys\n",
    "import warnings\n",
    "import matplotlib\n",
    "import numpy as np\n",
    "from os import path\n",
    "\n",
    "from skimage import data\n",
    "from skimage import transform\n",
    "from skimage.draw import circle\n",
    "from skimage.util import img_as_float\n",
    "from skimage.color import rgb2gray\n",
    "from skimage.exposure import rescale_intensity\n",
    "\n",
    "from skimage.feature import match_template # (only works for single match)?\n",
    "from scipy import ndimage as ndi\n",
    "import matplotlib.pyplot as plt\n",
    "from skimage.feature import peak_local_max\n",
    "from skimage import data, img_as_float\n",
    "\n",
    "from sklearn.cluster import KMeans\n",
    "\n",
    "from matplotlib import pyplot as plt\n",
    "warnings.filterwarnings(\"ignore\")"
   ]
  },
  {
   "cell_type": "code",
   "execution_count": 2,
   "metadata": {},
   "outputs": [],
   "source": [
    "import os\n",
    "import sys\n",
    "# Allow to import local python modules here in Jupyter\n",
    "module_path = os.path.abspath(os.path.join('..'))\n",
    "if module_path not in sys.path:\n",
    "    sys.path.append(module_path)\n",
    "    \n",
    "from app.utils.preprocessing import *"
   ]
  },
  {
   "cell_type": "code",
   "execution_count": 3,
   "metadata": {},
   "outputs": [],
   "source": [
    "def load_april_2016_images():\n",
    "    filenames = os.listdir('../data/april_2016_gels_renamed/')\n",
    "    filenames = [x for x in filenames if 'pep1' in x]\n",
    "    filenames = [x for x in filenames if not 'big' in x]\n",
    "    \n",
    "    imgs_april = []\n",
    "    for filename in filenames:\n",
    "        img = load_and_process_image('../data/april_2016_gels_renamed/' + filename)\n",
    "        imgs_april.append(img)\n",
    "        \n",
    "    return imgs_april\n",
    "    \n",
    "\n",
    "def load_nov_2016_images():\n",
    "    imgs_nov = []\n",
    "    imgs_nov_idx = [1,6,12,21,41,42,51,52,56,83,84,89,90,96,97,106,123,131,136,152,153,156,157] # 7, 22\n",
    "    \n",
    "    for idx in imgs_nov_idx:\n",
    "        filename = '../data/gels_nov_2016/Im{} - p. {}.png'.format(idx, idx)\n",
    "        img = load_and_process_image(filename)\n",
    "        imgs_nov.append(img)\n",
    "        \n",
    "    return imgs_nov\n",
    "\n",
    "\n",
    "def load_and_process_image(filename):\n",
    "    shape = (1276, 2100)\n",
    "\n",
    "    cur_im = data.imread(filename, flatten=True)\n",
    "    cur_im = img_as_float(cur_im)\n",
    "    cur_im = rescale_intensity(cur_im)\n",
    "    cur_im = rgb2gray(cur_im)\n",
    "\n",
    "    cur_im = transform.resize(cur_im, output_shape=shape) # todo\n",
    "    return cur_im\n",
    "\n",
    "\n",
    "imgs_nov = load_nov_2016_images()\n",
    "imgs_april = load_april_2016_images()\n",
    "all_images = imgs_nov + imgs_april"
   ]
  },
  {
   "cell_type": "markdown",
   "metadata": {},
   "source": [
    "### Grab Albumin roi"
   ]
  },
  {
   "cell_type": "code",
   "execution_count": 4,
   "metadata": {
    "scrolled": true
   },
   "outputs": [
    {
     "ename": "KeyboardInterrupt",
     "evalue": "",
     "output_type": "error",
     "traceback": [
      "\u001b[0;31m---------------------------------------------------------------------------\u001b[0m",
      "\u001b[0;31mKeyboardInterrupt\u001b[0m                         Traceback (most recent call last)",
      "\u001b[0;32m<ipython-input-4-3a5e2a0f471d>\u001b[0m in \u001b[0;36m<module>\u001b[0;34m()\u001b[0m\n\u001b[1;32m      1\u001b[0m \u001b[0malb\u001b[0m \u001b[0;34m=\u001b[0m \u001b[0mimgs_nov\u001b[0m\u001b[0;34m[\u001b[0m\u001b[0;36m0\u001b[0m\u001b[0;34m]\u001b[0m\u001b[0;34m[\u001b[0m\u001b[0;36m307\u001b[0m\u001b[0;34m:\u001b[0m\u001b[0;36m398\u001b[0m\u001b[0;34m,\u001b[0m\u001b[0;36m460\u001b[0m\u001b[0;34m:\u001b[0m\u001b[0;36m507\u001b[0m\u001b[0;34m]\u001b[0m\u001b[0;34m\u001b[0m\u001b[0m\n\u001b[1;32m      2\u001b[0m \u001b[0mplt\u001b[0m\u001b[0;34m.\u001b[0m\u001b[0mimshow\u001b[0m\u001b[0;34m(\u001b[0m\u001b[0malb\u001b[0m\u001b[0;34m)\u001b[0m\u001b[0;34m\u001b[0m\u001b[0m\n\u001b[0;32m----> 3\u001b[0;31m \u001b[0mplt\u001b[0m\u001b[0;34m.\u001b[0m\u001b[0mshow\u001b[0m\u001b[0;34m(\u001b[0m\u001b[0;34m)\u001b[0m\u001b[0;34m\u001b[0m\u001b[0m\n\u001b[0m",
      "\u001b[0;32m/Users/ianjohnson/.virtualenvs/gels-analysis/lib/python2.7/site-packages/matplotlib/pyplot.pyc\u001b[0m in \u001b[0;36mshow\u001b[0;34m(*args, **kw)\u001b[0m\n\u001b[1;32m    251\u001b[0m     \"\"\"\n\u001b[1;32m    252\u001b[0m     \u001b[0;32mglobal\u001b[0m \u001b[0m_show\u001b[0m\u001b[0;34m\u001b[0m\u001b[0m\n\u001b[0;32m--> 253\u001b[0;31m     \u001b[0;32mreturn\u001b[0m \u001b[0m_show\u001b[0m\u001b[0;34m(\u001b[0m\u001b[0;34m*\u001b[0m\u001b[0margs\u001b[0m\u001b[0;34m,\u001b[0m \u001b[0;34m**\u001b[0m\u001b[0mkw\u001b[0m\u001b[0;34m)\u001b[0m\u001b[0;34m\u001b[0m\u001b[0m\n\u001b[0m\u001b[1;32m    254\u001b[0m \u001b[0;34m\u001b[0m\u001b[0m\n\u001b[1;32m    255\u001b[0m \u001b[0;34m\u001b[0m\u001b[0m\n",
      "\u001b[0;32m/Users/ianjohnson/.virtualenvs/gels-analysis/lib/python2.7/site-packages/matplotlib/backend_bases.pyc\u001b[0m in \u001b[0;36m__call__\u001b[0;34m(self, block)\u001b[0m\n\u001b[1;32m    191\u001b[0m \u001b[0;34m\u001b[0m\u001b[0m\n\u001b[1;32m    192\u001b[0m         \u001b[0;32mif\u001b[0m \u001b[0;32mnot\u001b[0m \u001b[0mis_interactive\u001b[0m\u001b[0;34m(\u001b[0m\u001b[0;34m)\u001b[0m \u001b[0;32mor\u001b[0m \u001b[0mget_backend\u001b[0m\u001b[0;34m(\u001b[0m\u001b[0;34m)\u001b[0m \u001b[0;34m==\u001b[0m \u001b[0;34m'WebAgg'\u001b[0m\u001b[0;34m:\u001b[0m\u001b[0;34m\u001b[0m\u001b[0m\n\u001b[0;32m--> 193\u001b[0;31m             \u001b[0mself\u001b[0m\u001b[0;34m.\u001b[0m\u001b[0mmainloop\u001b[0m\u001b[0;34m(\u001b[0m\u001b[0;34m)\u001b[0m\u001b[0;34m\u001b[0m\u001b[0m\n\u001b[0m\u001b[1;32m    194\u001b[0m \u001b[0;34m\u001b[0m\u001b[0m\n\u001b[1;32m    195\u001b[0m     \u001b[0;32mdef\u001b[0m \u001b[0mmainloop\u001b[0m\u001b[0;34m(\u001b[0m\u001b[0mself\u001b[0m\u001b[0;34m)\u001b[0m\u001b[0;34m:\u001b[0m\u001b[0;34m\u001b[0m\u001b[0m\n",
      "\u001b[0;32m/Users/ianjohnson/.virtualenvs/gels-analysis/lib/python2.7/site-packages/matplotlib/backends/backend_tkagg.pyc\u001b[0m in \u001b[0;36mmainloop\u001b[0;34m(self)\u001b[0m\n\u001b[1;32m     69\u001b[0m \u001b[0;32mclass\u001b[0m \u001b[0mShow\u001b[0m\u001b[0;34m(\u001b[0m\u001b[0mShowBase\u001b[0m\u001b[0;34m)\u001b[0m\u001b[0;34m:\u001b[0m\u001b[0;34m\u001b[0m\u001b[0m\n\u001b[1;32m     70\u001b[0m     \u001b[0;32mdef\u001b[0m \u001b[0mmainloop\u001b[0m\u001b[0;34m(\u001b[0m\u001b[0mself\u001b[0m\u001b[0;34m)\u001b[0m\u001b[0;34m:\u001b[0m\u001b[0;34m\u001b[0m\u001b[0m\n\u001b[0;32m---> 71\u001b[0;31m         \u001b[0mTk\u001b[0m\u001b[0;34m.\u001b[0m\u001b[0mmainloop\u001b[0m\u001b[0;34m(\u001b[0m\u001b[0;34m)\u001b[0m\u001b[0;34m\u001b[0m\u001b[0m\n\u001b[0m\u001b[1;32m     72\u001b[0m \u001b[0;34m\u001b[0m\u001b[0m\n\u001b[1;32m     73\u001b[0m \u001b[0mshow\u001b[0m \u001b[0;34m=\u001b[0m \u001b[0mShow\u001b[0m\u001b[0;34m(\u001b[0m\u001b[0;34m)\u001b[0m\u001b[0;34m\u001b[0m\u001b[0m\n",
      "\u001b[0;32m/usr/local/Cellar/python/2.7.13/Frameworks/Python.framework/Versions/2.7/lib/python2.7/lib-tk/Tkinter.pyc\u001b[0m in \u001b[0;36mmainloop\u001b[0;34m(n)\u001b[0m\n\u001b[1;32m    417\u001b[0m \u001b[0;32mdef\u001b[0m \u001b[0mmainloop\u001b[0m\u001b[0;34m(\u001b[0m\u001b[0mn\u001b[0m\u001b[0;34m=\u001b[0m\u001b[0;36m0\u001b[0m\u001b[0;34m)\u001b[0m\u001b[0;34m:\u001b[0m\u001b[0;34m\u001b[0m\u001b[0m\n\u001b[1;32m    418\u001b[0m     \u001b[0;34m\"\"\"Run the main loop of Tcl.\"\"\"\u001b[0m\u001b[0;34m\u001b[0m\u001b[0m\n\u001b[0;32m--> 419\u001b[0;31m     \u001b[0m_default_root\u001b[0m\u001b[0;34m.\u001b[0m\u001b[0mtk\u001b[0m\u001b[0;34m.\u001b[0m\u001b[0mmainloop\u001b[0m\u001b[0;34m(\u001b[0m\u001b[0mn\u001b[0m\u001b[0;34m)\u001b[0m\u001b[0;34m\u001b[0m\u001b[0m\n\u001b[0m\u001b[1;32m    420\u001b[0m \u001b[0;34m\u001b[0m\u001b[0m\n\u001b[1;32m    421\u001b[0m \u001b[0mgetint\u001b[0m \u001b[0;34m=\u001b[0m \u001b[0mint\u001b[0m\u001b[0;34m\u001b[0m\u001b[0m\n",
      "\u001b[0;31mKeyboardInterrupt\u001b[0m: "
     ]
    }
   ],
   "source": [
    "alb = imgs_nov[0][307:398,460:507]"
   ]
  },
  {
   "cell_type": "code",
   "execution_count": null,
   "metadata": {
    "collapsed": true
   },
   "outputs": [],
   "source": [
    "plt.imshow(alb)\n",
    "plt.show()"
   ]
  },
  {
   "cell_type": "markdown",
   "metadata": {},
   "source": [
    "### Find ROI in gel"
   ]
  },
  {
   "cell_type": "code",
   "execution_count": 5,
   "metadata": {},
   "outputs": [],
   "source": [
    "def find_matches(img, template):\n",
    "    overlap_thresh = 50\n",
    "    result = match_template(img, template)\n",
    "    xy_max = np.unravel_index(np.argsort(result.ravel())[-500:], result.shape)\n",
    "    \n",
    "    zipped = zip(xy_max[0], xy_max[1])\n",
    "    zipped_rev = np.flipud(zipped)\n",
    "    found = np.zeros(img.shape)\n",
    "    top_matches = [result[x, y] for x, y in zipped[0:100]]\n",
    "    print('Mean top 100 match score: ', np.mean(top_matches))\n",
    "    \n",
    "    # Don't include same ROI twice\n",
    "    xy_dedup = []\n",
    "    for x, y in zipped_rev:\n",
    "        # Maximum number of lanes\n",
    "        if len(xy_dedup) >= 28: break\n",
    "        # Minimum correlation\n",
    "#         if result[x, y] < .8: break\n",
    "            \n",
    "        overlap = found[x : x + alb.shape[0], y : y + alb.shape[1]]\n",
    "        if np.sum(overlap) < overlap_thresh:\n",
    "            found[x : x + template.shape[0], y : y + template.shape[1]] = 1\n",
    "\n",
    "            x_cen = x + int(template.shape[0] / 2)\n",
    "            y_cen = y + int(template.shape[1] / 2)\n",
    "            xy_dedup.append((x_cen, y_cen))\n",
    "            \n",
    "    return xy_dedup"
   ]
  },
  {
   "cell_type": "markdown",
   "metadata": {},
   "source": [
    "### View marks"
   ]
  },
  {
   "cell_type": "code",
   "execution_count": 6,
   "metadata": {},
   "outputs": [],
   "source": [
    "def mark_match_rois(img, marker_points):\n",
    "    for x, y in marker_points:\n",
    "        rr, cc = circle(x, y, 5)\n",
    "        img[rr, cc] = 1\n",
    "    return img"
   ]
  },
  {
   "cell_type": "markdown",
   "metadata": {},
   "source": [
    "### Extract lanes above Alb roi"
   ]
  },
  {
   "cell_type": "code",
   "execution_count": 7,
   "metadata": {},
   "outputs": [],
   "source": [
    "def extract_lanes_using_markers(img, markers):\n",
    "    lanes = []\n",
    "    i = 1\n",
    "    # Weight X dimension higher than Y dimension\n",
    "    markers_sorted = sorted(markers, key=lambda x: x[1] + 10*x[0])\n",
    "    \n",
    "    for x, y in markers_sorted:\n",
    "        roi = img[x - 70 : x + 10, y - 10 : y + 10]\n",
    "        lanes.append((roi, i))\n",
    "        i += 1\n",
    "    return lanes"
   ]
  },
  {
   "cell_type": "markdown",
   "metadata": {},
   "source": [
    "### Plot lanes"
   ]
  },
  {
   "cell_type": "code",
   "execution_count": 8,
   "metadata": {},
   "outputs": [],
   "source": [
    "def plot_lanes(lanes, labels):\n",
    "    count = len(lanes)\n",
    "    plt.figure(figsize=(20, 20))\n",
    "    \n",
    "    plt.axis('off')\n",
    "    plt.xticks([])\n",
    "    plt.yticks([])\n",
    "    for i, lane in enumerate(lanes):\n",
    "        cols = 40\n",
    "        rows = int(count / cols) + 1\n",
    "        ax = plt.subplot(rows, cols, 1 + i)\n",
    "        \n",
    "        ax.set_xticklabels([])\n",
    "        ax.set_yticklabels([])\n",
    "        ax.set_title(labels[i])\n",
    "\n",
    "        plt.imshow(lane)"
   ]
  },
  {
   "cell_type": "code",
   "execution_count": 9,
   "metadata": {},
   "outputs": [
    {
     "name": "stdout",
     "output_type": "stream",
     "text": [
      "('Mean top 100 match score: ', 0.86141344825947541)\n",
      "('Mean top 100 match score: ', 0.87092650444766562)\n",
      "('Mean top 100 match score: ', 0.89029657012183616)\n",
      "('Mean top 100 match score: ', 0.85888919034535727)\n",
      "('Mean top 100 match score: ', 0.85934165064688139)\n",
      "('Mean top 100 match score: ', 0.8525071813914552)\n",
      "('Mean top 100 match score: ', 0.77678522885741796)\n",
      "('Mean top 100 match score: ', 0.75439860119624969)\n",
      "('Mean top 100 match score: ', 0.8637948038400235)\n",
      "('Mean top 100 match score: ', 0.86435122547730459)\n",
      "('Mean top 100 match score: ', 0.7765862097728059)\n",
      "('Mean top 100 match score: ', 0.76442816123690305)\n",
      "('Mean top 100 match score: ', 0.76482243221097623)\n",
      "('Mean top 100 match score: ', 0.7752157338360951)\n",
      "('Mean top 100 match score: ', 0.76779057036123244)\n",
      "('Mean top 100 match score: ', 0.77384366515409408)\n",
      "('Mean top 100 match score: ', 0.85286680970654727)\n",
      "('Mean top 100 match score: ', 0.88166409838591764)\n",
      "('Mean top 100 match score: ', 0.88890355718856118)\n",
      "('Mean top 100 match score: ', 0.78748294390366169)\n",
      "('Mean top 100 match score: ', 0.78556242938143539)\n",
      "('Mean top 100 match score: ', 0.74782018488300261)\n",
      "('Mean top 100 match score: ', 0.76107923395496146)\n",
      "('Mean top 100 match score: ', 0.86466500073602692)\n",
      "('Mean top 100 match score: ', 0.87426536210776828)\n",
      "('Mean top 100 match score: ', 0.85316763484190317)\n",
      "('Mean top 100 match score: ', 0.86071172187081491)\n",
      "('Mean top 100 match score: ', 0.87396188163003219)\n",
      "('Mean top 100 match score: ', 0.84967942029168431)\n",
      "('Mean top 100 match score: ', 0.82134617142621547)\n",
      "('Mean top 100 match score: ', 0.87097357352260607)\n",
      "('Mean top 100 match score: ', 0.77779187786963633)\n",
      "('Mean top 100 match score: ', 0.85926755327269366)\n",
      "('Mean top 100 match score: ', 0.84933202850691447)\n",
      "('Mean top 100 match score: ', 0.76813579352793737)\n",
      "('Mean top 100 match score: ', 0.71331847093452883)\n",
      "('Mean top 100 match score: ', 0.73724410267746787)\n",
      "('Mean top 100 match score: ', 0.75391126437325473)\n",
      "('Mean top 100 match score: ', 0.76529411120519175)\n",
      "('Mean top 100 match score: ', 0.8301486111102413)\n",
      "('Mean top 100 match score: ', 0.86799025092930071)\n",
      "('Mean top 100 match score: ', 0.83900990926530394)\n",
      "('Mean top 100 match score: ', 0.85287949740765567)\n",
      "('Mean top 100 match score: ', 0.79873530948546234)\n",
      "('Mean top 100 match score: ', 0.84252986066055069)\n",
      "('Mean top 100 match score: ', 0.874980468366653)\n",
      "('Mean top 100 match score: ', 0.84987633592269318)\n"
     ]
    },
    {
     "data": {
      "text/plain": [
       "1086"
      ]
     },
     "execution_count": 9,
     "metadata": {},
     "output_type": "execute_result"
    }
   ],
   "source": [
    "# Choose nov, april, or all_images\n",
    "to_analyze = all_images\n",
    "\n",
    "all_markers = [find_matches(img, alb) for img in to_analyze]\n",
    "\n",
    "marked = [mark_match_rois(img.copy(), markers) for img, markers in zip(to_analyze, all_markers)]\n",
    "\n",
    "lanes_per_gel = [extract_lanes_using_markers(img, markers) for img, markers in zip(to_analyze, all_markers)]\n",
    "\n",
    "# Flatten\n",
    "all_lanes = [item for sublist in lanes_per_gel for item in sublist]\n",
    "len(all_lanes)"
   ]
  },
  {
   "cell_type": "markdown",
   "metadata": {},
   "source": [
    "### Min Dist b/w good & bad lanes"
   ]
  },
  {
   "cell_type": "code",
   "execution_count": 10,
   "metadata": {},
   "outputs": [],
   "source": [
    "# Gold std lanes\n",
    "gld = all_lanes[0][0]\n",
    "gld_bad = all_lanes[279][0]"
   ]
  },
  {
   "cell_type": "code",
   "execution_count": 52,
   "metadata": {
    "collapsed": true
   },
   "outputs": [],
   "source": [
    "def group_lanes_per_date(all_lanes, labels, good_class):\n",
    "    start = 0\n",
    "    good_lanes_per_gel = []\n",
    "    bad_lanes_per_gel = []\n",
    "    \n",
    "    for lanes in lanes_per_gel:\n",
    "        current_labels = labels[start : start + len(lanes)]\n",
    "        good_inds = np.array(np.array(current_labels) == good_class)\n",
    "        bad_inds = np.array(np.array(current_labels) != good_class)\n",
    "\n",
    "        good_lanes_per_gel.append(np.array(lanes)[good_inds])\n",
    "        bad_lanes_per_gel.append(np.array(lanes)[bad_inds])\n",
    "        start += len(lanes)\n",
    "        \n",
    "    return good_lanes_per_gel, bad_lanes_per_gel"
   ]
  },
  {
   "cell_type": "code",
   "execution_count": 53,
   "metadata": {},
   "outputs": [
    {
     "data": {
      "text/plain": [
       "(47, 23)"
      ]
     },
     "execution_count": 53,
     "metadata": {},
     "output_type": "execute_result"
    }
   ],
   "source": [
    "bad_dists = np.array([np.sum((x[0] - gld_bad)**2) for x in all_lanes])\n",
    "good_dists = np.array([np.sum((x[0] - gld)**2) for x in all_lanes])\n",
    "dist_labels = [0 if good_dists[i] < bad_dists[i] else 1 for i, dist in enumerate(bad_dists)]\n",
    "\n",
    "bad_dists_inds = np.array(np.argsort(bad_dists))\n",
    "\n",
    "# hard-code threshold\n",
    "threshold = 19.0\n",
    "bad_selected = np.array(all_lanes)[bad_dists < 19]\n",
    "good_selected = np.array(all_lanes)[good_dists < 19]\n",
    "\n",
    "# use min(good_dist, bad_dist)\n",
    "good_lanes_per_gel, bad_lanes_per_gel = group_lanes_per_date(all_lanes, dist_labels, 0)\n",
    "\n",
    "len(good_lanes_per_gel), len(good_lanes_per_gel[0])"
   ]
  },
  {
   "cell_type": "code",
   "execution_count": 51,
   "metadata": {
    "scrolled": false
   },
   "outputs": [
    {
     "ename": "SystemExit",
     "evalue": "0",
     "output_type": "error",
     "traceback": [
      "An exception has occurred, use %tb to see the full traceback.\n",
      "\u001b[0;31mSystemExit\u001b[0m\u001b[0;31m:\u001b[0m 0\n"
     ]
    }
   ],
   "source": [
    "plot_lanes([x[0] for x in bad_lanes_per_gel[7]], ['a']*500)\n",
    "plt.show()"
   ]
  },
  {
   "cell_type": "markdown",
   "metadata": {},
   "source": [
    "### Cluster out bad lanes"
   ]
  },
  {
   "cell_type": "code",
   "execution_count": 55,
   "metadata": {},
   "outputs": [
    {
     "data": {
      "text/plain": [
       "(704, 382)"
      ]
     },
     "execution_count": 55,
     "metadata": {},
     "output_type": "execute_result"
    }
   ],
   "source": [
    "km = KMeans(n_clusters = 2)\n",
    "km.fit(lanes_flat)\n",
    "\n",
    "gld_label = np.argmin([np.sum((x.reshape(gld.shape) - gld)**2) for x in km.cluster_centers_])\n",
    "\n",
    "labeled = [(img_and_lane_number, label) for img_and_lane_number, label in zip(lanes_flat, km.labels_)]\n",
    "lanes_good = np.array(all_lanes)[km.labels_ == gld_label]\n",
    "lanes_bad = np.array(all_lanes)[km.labels_ != gld_label]\n",
    "    \n",
    "good_lanes_per_gel, bad_lanes_per_gel = group_lanes_per_date(all_lanes, km.labels_, gld_label)\n",
    "len(lanes_good), len(lanes_bad)"
   ]
  },
  {
   "cell_type": "markdown",
   "metadata": {},
   "source": [
    "### IsoForest for bad lanes"
   ]
  },
  {
   "cell_type": "code",
   "execution_count": 96,
   "metadata": {},
   "outputs": [],
   "source": [
    "from sklearn.ensemble import IsolationForest\n",
    "from scipy import stats\n",
    "\n",
    "\n",
    "rng = np.random.RandomState(42)\n",
    "n_samples = 200\n",
    "outliers_fraction = 0.02\n",
    "clusters_separation = [0, 1, 2]\n",
    "\n",
    "iso = IsolationForest(\n",
    "    max_samples=n_samples,\n",
    "    contamination=outliers_fraction,\n",
    "    random_state=rng)\n",
    "\n",
    "iso.fit(lanes_flat)\n",
    "scores_pred = iso.decision_function(lanes_flat)\n",
    "threshold = stats.scoreatpercentile(scores_pred, 100 * outliers_fraction)\n",
    "y_pred = iso.predict(lanes_flat)\n",
    "\n",
    "labeled = [(img_and_lane_number, label) for img_and_lane_number, label in zip(lanes_flat, y_pred)]\n",
    "lanes_good = np.array(all_lanes)[y_pred == 1]\n",
    "lanes_bad = np.array(all_lanes)[y_pred != 1]"
   ]
  },
  {
   "cell_type": "code",
   "execution_count": 97,
   "metadata": {},
   "outputs": [
    {
     "data": {
      "text/plain": [
       "(1063, 23)"
      ]
     },
     "execution_count": 97,
     "metadata": {},
     "output_type": "execute_result"
    }
   ],
   "source": [
    "len(lanes_good), len(lanes_bad)"
   ]
  },
  {
   "cell_type": "code",
   "execution_count": 101,
   "metadata": {},
   "outputs": [
    {
     "ename": "SystemExit",
     "evalue": "0",
     "output_type": "error",
     "traceback": [
      "An exception has occurred, use %tb to see the full traceback.\n",
      "\u001b[0;31mSystemExit\u001b[0m\u001b[0;31m:\u001b[0m 0\n"
     ]
    }
   ],
   "source": [
    "plot_lanes([x[0] for x in lanes_good[0:250]], ['b']*250)\n",
    "plt.show()"
   ]
  },
  {
   "cell_type": "code",
   "execution_count": 38,
   "metadata": {},
   "outputs": [
    {
     "name": "stdout",
     "output_type": "stream",
     "text": [
      "6 4_18_pep1.jpg 18\n",
      "7 4_19_pep1.jpg 14\n",
      "10 4_21_pep1.jpg 3\n",
      "11 4_22_pep1.jpg 21\n",
      "12 4_23_pep1.jpg 19\n",
      "13 4_25_pep1.jpg 22\n",
      "14 4_26_pep1.jpg 17\n",
      "15 4_27_pep1.jpg 19\n",
      "19 4_3_pep1.jpg 25\n",
      "20 4_5_pep1.jpg 28\n",
      "21 4_6_pep1.jpg 24\n",
      "22 4_7_pep1.jpg 24\n"
     ]
    }
   ],
   "source": [
    "num = 15\n",
    "\n",
    "# for num in range(len(all_markers)):\n",
    "#     print num, len(bad_lanes_per_gel[num])\n",
    "\n",
    "filenames = os.listdir('../data/april_2016_gels_renamed/')\n",
    "filenames = [x for x in filenames if 'pep1' in x]\n",
    "filenames = [x for x in filenames if not 'big' in x]\n",
    "\n",
    "for i, filename in enumerate(filenames):\n",
    "    bad_count = len(bad_lanes_per_gel[i])\n",
    "    if bad_count > 0:\n",
    "        print i, filename, bad_count"
   ]
  },
  {
   "cell_type": "markdown",
   "metadata": {},
   "source": [
    "### Plot"
   ]
  },
  {
   "cell_type": "code",
   "execution_count": 43,
   "metadata": {},
   "outputs": [
    {
     "ename": "SystemExit",
     "evalue": "0",
     "output_type": "error",
     "traceback": [
      "An exception has occurred, use %tb to see the full traceback.\n",
      "\u001b[0;31mSystemExit\u001b[0m\u001b[0;31m:\u001b[0m 0\n"
     ]
    }
   ],
   "source": [
    "to_plot = 19\n",
    "\n",
    "plt.imshow(marked[to_plot])\n",
    "\n",
    "plot_lanes([x[0] for x in lanes_per_gel[to_plot]], ['a']*1000)\n",
    "plot_lanes([x[0] for x in good_lanes_per_gel[to_plot]], ['g']*1000)\n",
    "plot_lanes([x[0] for x in bad_lanes_per_gel[to_plot]], ['b']*1000)\n",
    "\n",
    "plt.show()"
   ]
  },
  {
   "cell_type": "code",
   "execution_count": null,
   "metadata": {},
   "outputs": [],
   "source": [
    "plt.imshow(marked[4])\n",
    "plt.show()"
   ]
  },
  {
   "cell_type": "markdown",
   "metadata": {},
   "source": [
    "### Load Labels"
   ]
  },
  {
   "cell_type": "code",
   "execution_count": 2,
   "metadata": {},
   "outputs": [],
   "source": [
    "from datetime import datetime\n",
    "from labels_collection import get_labels, get_dz_labels\n",
    "\n",
    "\n",
    "april_2016_labels = get_labels(datetime(2016, 4, 1), datetime(2016, 4, 30))\n",
    "april_2016_dz_labels = get_dz_labels(april_2016_labels)\n",
    "\n",
    "nov_2016_labels = get_labels(datetime(2016, 11, 1), datetime(2016, 11, 30))\n",
    "nov_2016_dz_labels = get_dz_labels(nov_2016_labels)"
   ]
  },
  {
   "cell_type": "code",
   "execution_count": 11,
   "metadata": {
    "collapsed": true
   },
   "outputs": [],
   "source": [
    "import collections\n",
    "\n",
    "od = collections.OrderedDict(sorted(nov_2016_dz_labels.items()))"
   ]
  },
  {
   "cell_type": "code",
   "execution_count": 13,
   "metadata": {},
   "outputs": [
    {
     "data": {
      "text/plain": [
       "[('1 1', ('2016-11-01', [2, 3, 5, 7, 14, 16, 21])),\n",
       " ('2 6', ('2016-11-02', [2, 3, 11, 13, 17, 18, 20, 23, 25, 28])),\n",
       " ('3 12', ('2016-11-03', [2, 3, 6, 8, 10, 13, 28])),\n",
       " ('4 21', ('2016-11-04', [2, 5, 8, 14, 16, 17, 18, 22, 28])),\n",
       " ('5 41', ('2016-11-07', [2])),\n",
       " ('6 42', ('2016-11-08', [2, 3, 7, 10, 11, 20, 22, 23, 28])),\n",
       " ('7 51', ('2016-11-09', [2, 6, 9, 12, 13, 19, 22, 23, 28])),\n",
       " ('8 52', ('2016-11-10', [2, 3, 5, 6, 7, 9, 11, 14, 19, 20, 23])),\n",
       " ('9 56', ('2016-11-11', [2])),\n",
       " ('10 83', ('2016-11-12', [2])),\n",
       " ('11 84', ('2016-11-14', [2])),\n",
       " ('12 89', ('2016-11-15', [2, 3, 6, 7, 12, 13, 14, 16, 18, 19, 20, 24])),\n",
       " ('13 90', ('2016-11-16', [2, 4, 10, 12, 13, 15, 18, 26])),\n",
       " ('14 96', ('2016-11-17', [2, 4, 5, 6, 7, 8, 10, 18, 20])),\n",
       " ('15 97', ('2016-11-18', [2, 3, 4, 5, 9, 11, 13, 14, 26])),\n",
       " ('16 106', ('2016-11-21', [2, 4, 6, 7, 9, 10, 14, 15, 21, 24])),\n",
       " ('17 123', ('2016-11-22', [2, 9, 12, 19, 23])),\n",
       " ('18 131', ('2016-11-23', [2, 9, 13, 21])),\n",
       " ('19 136', ('2016-11-25', [2, 11, 25])),\n",
       " ('20 152', ('2016-11-28', [2])),\n",
       " ('21 153', ('2016-11-29', [2, 4, 7, 8, 10, 17, 21, 22, 24, 26, 28])),\n",
       " ('22 156', ('2016-11-30', [2, 4, 7, 8, 9, 11, 16, 19, 25, 28]))]"
      ]
     },
     "execution_count": 13,
     "metadata": {},
     "output_type": "execute_result"
    }
   ],
   "source": [
    "asdf = [1,6,12,21,41,42,51,52,56,83,84,89,90,96,97,106,123,131,136,152,153,156,157] # 7, 22\n",
    "\n",
    "blah = zip([str(i + 1) + ' ' + str(val) for i, val in enumerate(asdf)], od.items())\n",
    "\n",
    "blah"
   ]
  },
  {
   "cell_type": "code",
   "execution_count": 57,
   "metadata": {},
   "outputs": [
    {
     "name": "stdout",
     "output_type": "stream",
     "text": [
      "(23, 22)\n"
     ]
    },
    {
     "ename": "IndexError",
     "evalue": "list index out of range",
     "output_type": "error",
     "traceback": [
      "\u001b[0;31m---------------------------------------------------------------------------\u001b[0m",
      "\u001b[0;31mIndexError\u001b[0m                                Traceback (most recent call last)",
      "\u001b[0;32m<ipython-input-57-78a3cc3e6ece>\u001b[0m in \u001b[0;36m<module>\u001b[0;34m()\u001b[0m\n\u001b[1;32m      6\u001b[0m \u001b[0my\u001b[0m \u001b[0;34m=\u001b[0m \u001b[0;34m[\u001b[0m\u001b[0;34m]\u001b[0m\u001b[0;34m\u001b[0m\u001b[0m\n\u001b[1;32m      7\u001b[0m \u001b[0;32mfor\u001b[0m \u001b[0mi\u001b[0m\u001b[0;34m,\u001b[0m \u001b[0mmeans\u001b[0m \u001b[0;32min\u001b[0m \u001b[0menumerate\u001b[0m\u001b[0;34m(\u001b[0m\u001b[0mX\u001b[0m\u001b[0;34m[\u001b[0m\u001b[0;36m0\u001b[0m \u001b[0;34m:\u001b[0m \u001b[0mlen\u001b[0m\u001b[0;34m(\u001b[0m\u001b[0mimgs_nov\u001b[0m\u001b[0;34m)\u001b[0m\u001b[0;34m]\u001b[0m\u001b[0;34m)\u001b[0m\u001b[0;34m:\u001b[0m\u001b[0;34m\u001b[0m\u001b[0m\n\u001b[0;32m----> 8\u001b[0;31m     \u001b[0mdate\u001b[0m \u001b[0;34m=\u001b[0m \u001b[0mnov_2016_dz_labels\u001b[0m\u001b[0;34m.\u001b[0m\u001b[0mkeys\u001b[0m\u001b[0;34m(\u001b[0m\u001b[0;34m)\u001b[0m\u001b[0;34m[\u001b[0m\u001b[0mi\u001b[0m\u001b[0;34m]\u001b[0m\u001b[0;34m\u001b[0m\u001b[0m\n\u001b[0m\u001b[1;32m      9\u001b[0m     \u001b[0;32mfor\u001b[0m \u001b[0mj\u001b[0m \u001b[0;32min\u001b[0m \u001b[0mrange\u001b[0m\u001b[0;34m(\u001b[0m\u001b[0mlen\u001b[0m\u001b[0;34m(\u001b[0m\u001b[0mmeans\u001b[0m\u001b[0;34m)\u001b[0m\u001b[0;34m)\u001b[0m\u001b[0;34m:\u001b[0m\u001b[0;34m\u001b[0m\u001b[0m\n\u001b[1;32m     10\u001b[0m         \u001b[0;32mif\u001b[0m \u001b[0mj\u001b[0m \u001b[0;32min\u001b[0m \u001b[0mnov_2016_dz_labels\u001b[0m\u001b[0;34m[\u001b[0m\u001b[0mdate\u001b[0m\u001b[0;34m]\u001b[0m\u001b[0;34m:\u001b[0m\u001b[0;34m\u001b[0m\u001b[0m\n",
      "\u001b[0;31mIndexError\u001b[0m: list index out of range"
     ]
    }
   ],
   "source": [
    "X = [zip(calc_lane_means([z[0] for z in x]), [z[1] for z in x]) for x in good_lanes_per_gel]\n",
    "X_flat = [z[0] for x in X for z in x]\n",
    "\n",
    "print(len(imgs_nov), len(nov_2016_dz_labels.keys()))\n",
    "\n",
    "y = []\n",
    "for i, means in enumerate(X[0 : len(imgs_nov)]):\n",
    "    date = nov_2016_dz_labels.keys()[i]\n",
    "    for j in range(len(means)):\n",
    "        if j in nov_2016_dz_labels[date]:\n",
    "            y.append(1)\n",
    "        else:\n",
    "            y.append(0)\n",
    "\n",
    "for i, means in enumerate(X[len(imgs_nov) : ]):\n",
    "    date = april_2016_dz_labels.keys()[i]\n",
    "    for j, k in means:\n",
    "        if k in april_2016_dz_labels[date]:\n",
    "            y.append(1)\n",
    "        else:\n",
    "            y.append(0)\n",
    "\n",
    "len(X), len(X_flat), len(y)"
   ]
  },
  {
   "cell_type": "markdown",
   "metadata": {},
   "source": [
    "### Classification"
   ]
  },
  {
   "cell_type": "code",
   "execution_count": 223,
   "metadata": {},
   "outputs": [
    {
     "data": {
      "text/plain": [
       "0.70491803278688525"
      ]
     },
     "execution_count": 223,
     "metadata": {},
     "output_type": "execute_result"
    }
   ],
   "source": [
    "from sklearn.ensemble import RandomForestClassifier\n",
    "from sklearn.cross_validation import train_test_split\n",
    "\n",
    "\n",
    "x_train, x_test, y_train, y_test = train_test_split(X_flat, y)\n",
    "\n",
    "clf = RandomForestClassifier()\n",
    "clf.fit(x_train, y_train)\n",
    "clf.score(x_test, y_test)"
   ]
  },
  {
   "cell_type": "code",
   "execution_count": null,
   "metadata": {},
   "outputs": [],
   "source": [
    "plt.figure(figsize=(20, 16))\n",
    "\n",
    "X_means_df = pd.DataFrame(X_flat)\n",
    "\n",
    "ctrl = X_means_df[np.array(y) == 0]\n",
    "print len(ctrl), len(y)\n",
    "plt.subplot(211)\n",
    "ctrl.T.plot(alpha=.1, color='blue', ax=plt.gca(), legend=None, label='ctrl')\n",
    "\n",
    "dz = X_means_df[np.array(y) == 1]\n",
    "print len(dz), len(y)\n",
    "plt.subplot(212)\n",
    "dz.T.plot(alpha=.1, color='red', ax=plt.gca(), legend=None, label='dz')\n",
    "\n",
    "plt.show()"
   ]
  },
  {
   "cell_type": "code",
   "execution_count": null,
   "metadata": {
    "collapsed": true
   },
   "outputs": [],
   "source": []
  }
 ],
 "metadata": {
  "kernelspec": {
   "display_name": "Python 2",
   "language": "python",
   "name": "python2"
  },
  "language_info": {
   "codemirror_mode": {
    "name": "ipython",
    "version": 2
   },
   "file_extension": ".py",
   "mimetype": "text/x-python",
   "name": "python",
   "nbconvert_exporter": "python",
   "pygments_lexer": "ipython2",
   "version": "2.7.6"
  }
 },
 "nbformat": 4,
 "nbformat_minor": 2
}

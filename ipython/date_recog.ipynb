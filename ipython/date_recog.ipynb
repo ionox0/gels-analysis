{
 "cells": [
  {
   "cell_type": "code",
   "execution_count": 1,
   "metadata": {
    "collapsed": false
   },
   "outputs": [
    {
     "name": "stderr",
     "output_type": "stream",
     "text": [
      "Using TensorFlow backend.\n"
     ]
    },
    {
     "name": "stdout",
     "output_type": "stream",
     "text": [
      "Using matplotlib backend: TkAgg\n"
     ]
    }
   ],
   "source": [
    "import cv2\n",
    "import scipy\n",
    "import pprint\n",
    "import numpy as np\n",
    "from sklearn.svm import SVC\n",
    "from sklearn import datasets\n",
    "from collections import Counter\n",
    "from skimage.feature import hog\n",
    "from sklearn import preprocessing\n",
    "from skimage import data\n",
    "from sklearn.externals import joblib\n",
    "\n",
    "import keras\n",
    "from matplotlib import pyplot as plt\n",
    "%matplotlib auto\n",
    "\n",
    "pp = pprint.PrettyPrinter(indent=4)\n",
    "n = 12\n",
    "l = 256\n",
    "np.random.seed(1)"
   ]
  },
  {
   "cell_type": "code",
   "execution_count": 2,
   "metadata": {
    "collapsed": false
   },
   "outputs": [
    {
     "name": "stderr",
     "output_type": "stream",
     "text": [
      "/Library/Python/2.7/site-packages/sklearn/base.py:315: UserWarning: Trying to unpickle estimator SVC from version pre-0.18 when using version 0.18.1. This might lead to breaking code or invalid results. Use at your own risk.\n",
      "  UserWarning)\n",
      "/Library/Python/2.7/site-packages/sklearn/base.py:315: UserWarning: Trying to unpickle estimator StandardScaler from version pre-0.18 when using version 0.18.1. This might lead to breaking code or invalid results. Use at your own risk.\n",
      "  UserWarning)\n"
     ]
    },
    {
     "ename": "TypeError",
     "evalue": "__init__() takes at least 4 arguments (3 given)",
     "output_type": "error",
     "traceback": [
      "\u001b[0;31m---------------------------------------------------------------------------\u001b[0m",
      "\u001b[0;31mTypeError\u001b[0m                                 Traceback (most recent call last)",
      "\u001b[0;32m<ipython-input-2-fb375a5b5697>\u001b[0m in \u001b[0;36m<module>\u001b[0;34m()\u001b[0m\n\u001b[1;32m      1\u001b[0m \u001b[0mclf\u001b[0m\u001b[0;34m,\u001b[0m \u001b[0mpp\u001b[0m \u001b[0;34m=\u001b[0m \u001b[0mjoblib\u001b[0m\u001b[0;34m.\u001b[0m\u001b[0mload\u001b[0m\u001b[0;34m(\u001b[0m\u001b[0;34m\"digits_cls.pkl\"\u001b[0m\u001b[0;34m)\u001b[0m\u001b[0;34m\u001b[0m\u001b[0m\n\u001b[0;32m----> 2\u001b[0;31m \u001b[0mmodel\u001b[0m \u001b[0;34m=\u001b[0m \u001b[0mkeras\u001b[0m\u001b[0;34m.\u001b[0m\u001b[0mmodels\u001b[0m\u001b[0;34m.\u001b[0m\u001b[0mload_model\u001b[0m\u001b[0;34m(\u001b[0m\u001b[0;34m'./digits_cnn'\u001b[0m\u001b[0;34m)\u001b[0m\u001b[0;34m\u001b[0m\u001b[0m\n\u001b[0m\u001b[1;32m      3\u001b[0m \u001b[0;34m\u001b[0m\u001b[0m\n\u001b[1;32m      4\u001b[0m \u001b[0mimgs\u001b[0m \u001b[0;34m=\u001b[0m \u001b[0;34m[\u001b[0m\u001b[0;36m1\u001b[0m\u001b[0;34m,\u001b[0m\u001b[0;36m6\u001b[0m\u001b[0;34m,\u001b[0m\u001b[0;36m12\u001b[0m\u001b[0;34m,\u001b[0m\u001b[0;36m21\u001b[0m\u001b[0;34m,\u001b[0m\u001b[0;36m41\u001b[0m\u001b[0;34m,\u001b[0m\u001b[0;36m42\u001b[0m\u001b[0;34m,\u001b[0m\u001b[0;36m51\u001b[0m\u001b[0;34m,\u001b[0m\u001b[0;36m52\u001b[0m\u001b[0;34m,\u001b[0m\u001b[0;36m56\u001b[0m\u001b[0;34m,\u001b[0m\u001b[0;36m83\u001b[0m\u001b[0;34m,\u001b[0m\u001b[0;36m84\u001b[0m\u001b[0;34m,\u001b[0m\u001b[0;36m89\u001b[0m\u001b[0;34m,\u001b[0m\u001b[0;36m90\u001b[0m\u001b[0;34m,\u001b[0m\u001b[0;36m96\u001b[0m\u001b[0;34m,\u001b[0m\u001b[0;36m97\u001b[0m\u001b[0;34m,\u001b[0m\u001b[0;36m106\u001b[0m\u001b[0;34m,\u001b[0m\u001b[0;36m123\u001b[0m\u001b[0;34m,\u001b[0m\u001b[0;36m131\u001b[0m\u001b[0;34m,\u001b[0m\u001b[0;36m136\u001b[0m\u001b[0;34m,\u001b[0m\u001b[0;36m152\u001b[0m\u001b[0;34m,\u001b[0m\u001b[0;36m153\u001b[0m\u001b[0;34m,\u001b[0m\u001b[0;36m156\u001b[0m\u001b[0;34m,\u001b[0m\u001b[0;36m157\u001b[0m\u001b[0;34m]\u001b[0m \u001b[0;31m#7, 22\u001b[0m\u001b[0;34m\u001b[0m\u001b[0m\n",
      "\u001b[0;32m/Library/Python/2.7/site-packages/keras/models.pyc\u001b[0m in \u001b[0;36mload_model\u001b[0;34m(filepath, custom_objects)\u001b[0m\n\u001b[1;32m    140\u001b[0m         \u001b[0;32mraise\u001b[0m \u001b[0mValueError\u001b[0m\u001b[0;34m(\u001b[0m\u001b[0;34m'No model found in config file.'\u001b[0m\u001b[0;34m)\u001b[0m\u001b[0;34m\u001b[0m\u001b[0m\n\u001b[1;32m    141\u001b[0m     \u001b[0mmodel_config\u001b[0m \u001b[0;34m=\u001b[0m \u001b[0mjson\u001b[0m\u001b[0;34m.\u001b[0m\u001b[0mloads\u001b[0m\u001b[0;34m(\u001b[0m\u001b[0mmodel_config\u001b[0m\u001b[0;34m.\u001b[0m\u001b[0mdecode\u001b[0m\u001b[0;34m(\u001b[0m\u001b[0;34m'utf-8'\u001b[0m\u001b[0;34m)\u001b[0m\u001b[0;34m)\u001b[0m\u001b[0;34m\u001b[0m\u001b[0m\n\u001b[0;32m--> 142\u001b[0;31m     \u001b[0mmodel\u001b[0m \u001b[0;34m=\u001b[0m \u001b[0mmodel_from_config\u001b[0m\u001b[0;34m(\u001b[0m\u001b[0mmodel_config\u001b[0m\u001b[0;34m,\u001b[0m \u001b[0mcustom_objects\u001b[0m\u001b[0;34m=\u001b[0m\u001b[0mcustom_objects\u001b[0m\u001b[0;34m)\u001b[0m\u001b[0;34m\u001b[0m\u001b[0m\n\u001b[0m\u001b[1;32m    143\u001b[0m \u001b[0;34m\u001b[0m\u001b[0m\n\u001b[1;32m    144\u001b[0m     \u001b[0;31m# set weights\u001b[0m\u001b[0;34m\u001b[0m\u001b[0;34m\u001b[0m\u001b[0m\n",
      "\u001b[0;32m/Library/Python/2.7/site-packages/keras/models.pyc\u001b[0m in \u001b[0;36mmodel_from_config\u001b[0;34m(config, custom_objects)\u001b[0m\n\u001b[1;32m    191\u001b[0m                         \u001b[0;34m'Maybe you meant to use '\u001b[0m\u001b[0;34m\u001b[0m\u001b[0m\n\u001b[1;32m    192\u001b[0m                         '`Sequential.from_config(config)`?')\n\u001b[0;32m--> 193\u001b[0;31m     \u001b[0;32mreturn\u001b[0m \u001b[0mlayer_from_config\u001b[0m\u001b[0;34m(\u001b[0m\u001b[0mconfig\u001b[0m\u001b[0;34m,\u001b[0m \u001b[0mcustom_objects\u001b[0m\u001b[0;34m=\u001b[0m\u001b[0mcustom_objects\u001b[0m\u001b[0;34m)\u001b[0m\u001b[0;34m\u001b[0m\u001b[0m\n\u001b[0m\u001b[1;32m    194\u001b[0m \u001b[0;34m\u001b[0m\u001b[0m\n\u001b[1;32m    195\u001b[0m \u001b[0;34m\u001b[0m\u001b[0m\n",
      "\u001b[0;32m/Library/Python/2.7/site-packages/keras/utils/layer_utils.pyc\u001b[0m in \u001b[0;36mlayer_from_config\u001b[0;34m(config, custom_objects)\u001b[0m\n\u001b[1;32m     41\u001b[0m                                        custom_objects=custom_objects)\n\u001b[1;32m     42\u001b[0m     \u001b[0;32melse\u001b[0m\u001b[0;34m:\u001b[0m\u001b[0;34m\u001b[0m\u001b[0m\n\u001b[0;32m---> 43\u001b[0;31m         \u001b[0;32mreturn\u001b[0m \u001b[0mlayer_class\u001b[0m\u001b[0;34m.\u001b[0m\u001b[0mfrom_config\u001b[0m\u001b[0;34m(\u001b[0m\u001b[0mconfig\u001b[0m\u001b[0;34m[\u001b[0m\u001b[0;34m'config'\u001b[0m\u001b[0;34m]\u001b[0m\u001b[0;34m)\u001b[0m\u001b[0;34m\u001b[0m\u001b[0m\n\u001b[0m\u001b[1;32m     44\u001b[0m \u001b[0;34m\u001b[0m\u001b[0m\n\u001b[1;32m     45\u001b[0m \u001b[0;34m\u001b[0m\u001b[0m\n",
      "\u001b[0;32m/Library/Python/2.7/site-packages/keras/models.pyc\u001b[0m in \u001b[0;36mfrom_config\u001b[0;34m(cls, config, layer_cache)\u001b[0m\n\u001b[1;32m   1083\u001b[0m             \u001b[0mmodel\u001b[0m\u001b[0;34m.\u001b[0m\u001b[0madd\u001b[0m\u001b[0;34m(\u001b[0m\u001b[0mmerge\u001b[0m\u001b[0;34m)\u001b[0m\u001b[0;34m\u001b[0m\u001b[0m\n\u001b[1;32m   1084\u001b[0m         \u001b[0;32melse\u001b[0m\u001b[0;34m:\u001b[0m\u001b[0;34m\u001b[0m\u001b[0m\n\u001b[0;32m-> 1085\u001b[0;31m             \u001b[0mlayer\u001b[0m \u001b[0;34m=\u001b[0m \u001b[0mget_or_create_layer\u001b[0m\u001b[0;34m(\u001b[0m\u001b[0mfirst_layer\u001b[0m\u001b[0;34m)\u001b[0m\u001b[0;34m\u001b[0m\u001b[0m\n\u001b[0m\u001b[1;32m   1086\u001b[0m             \u001b[0mmodel\u001b[0m\u001b[0;34m.\u001b[0m\u001b[0madd\u001b[0m\u001b[0;34m(\u001b[0m\u001b[0mlayer\u001b[0m\u001b[0;34m)\u001b[0m\u001b[0;34m\u001b[0m\u001b[0m\n\u001b[1;32m   1087\u001b[0m \u001b[0;34m\u001b[0m\u001b[0m\n",
      "\u001b[0;32m/Library/Python/2.7/site-packages/keras/models.pyc\u001b[0m in \u001b[0;36mget_or_create_layer\u001b[0;34m(layer_data)\u001b[0m\n\u001b[1;32m   1067\u001b[0m             \u001b[0;32mif\u001b[0m \u001b[0mname\u001b[0m \u001b[0;32min\u001b[0m \u001b[0mlayer_cache\u001b[0m\u001b[0;34m:\u001b[0m\u001b[0;34m\u001b[0m\u001b[0m\n\u001b[1;32m   1068\u001b[0m                 \u001b[0;32mreturn\u001b[0m \u001b[0mlayer_cache\u001b[0m\u001b[0;34m[\u001b[0m\u001b[0mname\u001b[0m\u001b[0;34m]\u001b[0m\u001b[0;34m\u001b[0m\u001b[0m\n\u001b[0;32m-> 1069\u001b[0;31m             \u001b[0mlayer\u001b[0m \u001b[0;34m=\u001b[0m \u001b[0mlayer_from_config\u001b[0m\u001b[0;34m(\u001b[0m\u001b[0mlayer_data\u001b[0m\u001b[0;34m)\u001b[0m\u001b[0;34m\u001b[0m\u001b[0m\n\u001b[0m\u001b[1;32m   1070\u001b[0m             \u001b[0mlayer_cache\u001b[0m\u001b[0;34m[\u001b[0m\u001b[0mname\u001b[0m\u001b[0;34m]\u001b[0m \u001b[0;34m=\u001b[0m \u001b[0mlayer\u001b[0m\u001b[0;34m\u001b[0m\u001b[0m\n\u001b[1;32m   1071\u001b[0m             \u001b[0;32mreturn\u001b[0m \u001b[0mlayer\u001b[0m\u001b[0;34m\u001b[0m\u001b[0m\n",
      "\u001b[0;32m/Library/Python/2.7/site-packages/keras/utils/layer_utils.pyc\u001b[0m in \u001b[0;36mlayer_from_config\u001b[0;34m(config, custom_objects)\u001b[0m\n\u001b[1;32m     41\u001b[0m                                        custom_objects=custom_objects)\n\u001b[1;32m     42\u001b[0m     \u001b[0;32melse\u001b[0m\u001b[0;34m:\u001b[0m\u001b[0;34m\u001b[0m\u001b[0m\n\u001b[0;32m---> 43\u001b[0;31m         \u001b[0;32mreturn\u001b[0m \u001b[0mlayer_class\u001b[0m\u001b[0;34m.\u001b[0m\u001b[0mfrom_config\u001b[0m\u001b[0;34m(\u001b[0m\u001b[0mconfig\u001b[0m\u001b[0;34m[\u001b[0m\u001b[0;34m'config'\u001b[0m\u001b[0;34m]\u001b[0m\u001b[0;34m)\u001b[0m\u001b[0;34m\u001b[0m\u001b[0m\n\u001b[0m\u001b[1;32m     44\u001b[0m \u001b[0;34m\u001b[0m\u001b[0m\n\u001b[1;32m     45\u001b[0m \u001b[0;34m\u001b[0m\u001b[0m\n",
      "\u001b[0;32m/Library/Python/2.7/site-packages/keras/engine/topology.pyc\u001b[0m in \u001b[0;36mfrom_config\u001b[0;34m(cls, config)\u001b[0m\n\u001b[1;32m   1023\u001b[0m                 \u001b[0moutput\u001b[0m \u001b[0mof\u001b[0m \u001b[0mget_config\u001b[0m\u001b[0;34m.\u001b[0m\u001b[0;34m\u001b[0m\u001b[0m\n\u001b[1;32m   1024\u001b[0m         \"\"\"\n\u001b[0;32m-> 1025\u001b[0;31m         \u001b[0;32mreturn\u001b[0m \u001b[0mcls\u001b[0m\u001b[0;34m(\u001b[0m\u001b[0;34m**\u001b[0m\u001b[0mconfig\u001b[0m\u001b[0;34m)\u001b[0m\u001b[0;34m\u001b[0m\u001b[0m\n\u001b[0m\u001b[1;32m   1026\u001b[0m \u001b[0;34m\u001b[0m\u001b[0m\n\u001b[1;32m   1027\u001b[0m     \u001b[0;32mdef\u001b[0m \u001b[0mcount_params\u001b[0m\u001b[0;34m(\u001b[0m\u001b[0mself\u001b[0m\u001b[0;34m)\u001b[0m\u001b[0;34m:\u001b[0m\u001b[0;34m\u001b[0m\u001b[0m\n",
      "\u001b[0;31mTypeError\u001b[0m: __init__() takes at least 4 arguments (3 given)"
     ]
    }
   ],
   "source": [
    "clf, pp = joblib.load(\"digits_cls.pkl\")\n",
    "model = keras.models.load_model('./digits_cnn')\n",
    "\n",
    "imgs = [1,6,12,21,41,42,51,52,56,83,84,89,90,96,97,106,123,131,136,152,153,156,157] #7, 22"
   ]
  },
  {
   "cell_type": "markdown",
   "metadata": {},
   "source": [
    "### HOG Features"
   ]
  },
  {
   "cell_type": "code",
   "execution_count": 456,
   "metadata": {
    "collapsed": false
   },
   "outputs": [],
   "source": [
    "def calc_hog_feats(rect, roi):\n",
    "    # Make the rectangular region around the digit\n",
    "    leng = int(rect[3] * 1.6)\n",
    "    pt1 = int(rect[1] + rect[3] // 2 - leng // 2)\n",
    "    pt2 = int(rect[0] + rect[2] // 2 - leng // 2)\n",
    "\n",
    "    # todo\n",
    "    if roi.shape[0] == 0 or roi.shape[1] == 0: return False\n",
    "\n",
    "    # Resize the image\n",
    "    roi = cv2.resize(roi, (28, 28), interpolation=cv2.INTER_AREA)\n",
    "    roi = cv2.dilate(roi, (3, 3))\n",
    "\n",
    "    # Calculate the HOG features\n",
    "    roi_hog_fd = hog(roi, orientations=9, pixels_per_cell=(14, 14), cells_per_block=(1, 1), visualise=False)\n",
    "    roi_hog_fd = pp.transform(np.array([roi_hog_fd], 'float64'))\n",
    "    \n",
    "    return roi_hog_fd"
   ]
  },
  {
   "cell_type": "markdown",
   "metadata": {},
   "source": [
    "### Sorting ROIs"
   ]
  },
  {
   "cell_type": "code",
   "execution_count": 520,
   "metadata": {
    "collapsed": false
   },
   "outputs": [],
   "source": [
    "from collections import deque\n",
    "\n",
    "def sort_rects(rects_ctrs):\n",
    "    rects_sort = sorted(rects_ctrs, key=lambda r: r[0][0])\n",
    "    \n",
    "    result = []\n",
    "    for rect in rects_sort:\n",
    "        # Filter to only rects with overlap of > 1/3 of target height\n",
    "        rects_sort_filt = filter(lambda x: calc_overlap(x[0], rect[0]) > (x[0][3] / 3.0) and abs(x[0][3] - rect[0][3]) < (x[0][3]), rects_sort)\n",
    "        rects_sort_filt = sorted(rects_sort_filt, key=lambda r: r[0][0])\n",
    "        result += rects_sort_filt\n",
    "        for rect_sorted in rects_sort_filt:\n",
    "            rects_sort.remove(rect_sorted)\n",
    "        \n",
    "    return zip(*result)\n",
    "    \n",
    "\n",
    "def calc_overlap(rect_1, rect_2):\n",
    "    rect_1_x = rect_1[0]\n",
    "    rect_1_y = rect_1[1]\n",
    "    rect_1_width = rect_1[2]\n",
    "    rect_1_height = rect_1[3]\n",
    "    \n",
    "    rect_2_x = rect_2[0]\n",
    "    rect_2_y = rect_2[1]\n",
    "    rect_2_width = rect_2[2]\n",
    "    rect_2_height = rect_2[3]\n",
    "    \n",
    "    overlap = min(rect_1_y + rect_1_height, rect_2_y + rect_2_height) - max(rect_1_y, rect_2_y)\n",
    "    return overlap"
   ]
  },
  {
   "cell_type": "markdown",
   "metadata": {},
   "source": [
    "### Color thresholding"
   ]
  },
  {
   "cell_type": "code",
   "execution_count": 459,
   "metadata": {
    "collapsed": false
   },
   "outputs": [],
   "source": [
    "image = scipy.misc.imread(filenames[0])\n",
    "cv2.threshold(image, 180, 255, cv2.THRESH_BINARY)\n",
    "\n",
    "# plt.imshow(image[800:802,600:602])\n",
    "\n",
    "# [820:822,655:657] # blue roi\n",
    "# [800:802,600:602] # black roi\n",
    "\n",
    "# plt.imshow(image[580:880,440:980])\n",
    "#plt.show()"
   ]
  },
  {
   "cell_type": "code",
   "execution_count": 384,
   "metadata": {
    "collapsed": false
   },
   "outputs": [
    {
     "data": {
      "text/plain": [
       "array([[[31, 18, 32],\n",
       "        [30, 19, 23]],\n",
       "\n",
       "       [[50, 39, 57],\n",
       "        [44, 34, 41]]], dtype=uint8)"
      ]
     },
     "execution_count": 384,
     "metadata": {},
     "output_type": "execute_result"
    }
   ],
   "source": [
    "image[800:802,600:602]"
   ]
  },
  {
   "cell_type": "code",
   "execution_count": 460,
   "metadata": {
    "collapsed": false
   },
   "outputs": [
    {
     "data": {
      "text/plain": [
       "<matplotlib.image.AxesImage at 0x130112850>"
      ]
     },
     "execution_count": 460,
     "metadata": {},
     "output_type": "execute_result"
    }
   ],
   "source": [
    "image = scipy.misc.imread(filenames[0])\n",
    "\n",
    "boundaries = {\n",
    "#     ([30, 15, 20], [50, 40, 60]), # black ink\n",
    "    'black': ([0, 0, 0], [190, 190, 190]), # black ink\n",
    "    'blue': ([50, 31, 4], [85, 120, 180]), # blue dye\n",
    "}\n",
    "\n",
    "colors = []\n",
    "for bound in boundaries.keys():\n",
    "    lower, upper = boundaries[bound]\n",
    "    lower = np.array(lower, dtype = \"uint8\")\n",
    "    upper = np.array(upper, dtype = \"uint8\")\n",
    "\n",
    "    mask = cv2.inRange(image, lower, upper)\n",
    "    output = cv2.bitwise_and(image, image, mask = mask)\n",
    "    colors.append(output)\n",
    "\n",
    "plt.imshow(np.hstack(colors))"
   ]
  },
  {
   "cell_type": "markdown",
   "metadata": {},
   "source": [
    "### Numbers xtract fn"
   ]
  },
  {
   "cell_type": "code",
   "execution_count": 525,
   "metadata": {
    "collapsed": false,
    "scrolled": false
   },
   "outputs": [],
   "source": [
    "import pdb\n",
    "\n",
    "def extract_numbers(fname, thresh=80, blur=True):\n",
    "    result = []\n",
    "    \n",
    "    im = scipy.misc.imread(fname)#[580:880,440:980]\n",
    "    im_one = im.astype(np.uint8)[:,:,2]\n",
    "\n",
    "    # Convert to grayscale and apply Gaussian filtering\n",
    "    im_gray = cv2.cvtColor(im, cv2.COLOR_BGR2GRAY)\n",
    "    im_gray = (255 - im_one)\n",
    "    if blur:\n",
    "        im_gray = cv2.GaussianBlur(im_gray, (5, 5), 0)\n",
    "\n",
    "    # Threshold the image\n",
    "    ret, im_th_all_colors = cv2.threshold(im_gray, thresh, 255, cv2.THRESH_BINARY)\n",
    "    # Or try with black threshold\n",
    "    lower, upper = boundaries['black']\n",
    "    lower = np.array(lower, dtype = \"uint8\")\n",
    "    upper = np.array(upper, dtype = \"uint8\")\n",
    "    mask = cv2.inRange(im, lower, upper)\n",
    "    im_th = cv2.bitwise_and(im, im, mask = mask).astype(np.uint8)\n",
    "    im_th = cv2.cvtColor(im_th, cv2.COLOR_BGR2GRAY)\n",
    "\n",
    "    # Find contours in the image\n",
    "    ctrs = cv2.findContours(im_th, cv2.RETR_EXTERNAL, cv2.CHAIN_APPROX_SIMPLE)\n",
    "\n",
    "    # Get contour bounding boxes\n",
    "    rects = [cv2.boundingRect(ctr) for ctr in ctrs[1]]\n",
    "    \n",
    "    # Sorted order of rois\n",
    "    sorted_rects, sorted_ctrs = sort_rects(zip(rects, ctrs[1]))\n",
    "\n",
    "    probs = []\n",
    "    date_possibs = []\n",
    "    cur_date_possib = []\n",
    "    prev_end_x = sorted_rects[0][0] + sorted_rects[0][2]\n",
    "    prev_end_y = sorted_rects[0][1] + sorted_rects[0][3]\n",
    "\n",
    "    # For each rectangular region, predict the digit using classifier\n",
    "    for i, rect in enumerate(sorted_rects):\n",
    "        x_start = rect[0]\n",
    "        y_start = rect[1]\n",
    "        width = rect[2]\n",
    "        height = rect[3]\n",
    "\n",
    "        # Skip short artifacts\n",
    "        if height < 10: continue\n",
    "\n",
    "        im_th_all_colors = im_th_all_colors.astype(np.float64)\n",
    "        im_roi = im_th_all_colors[y_start : y_start + height, x_start : x_start + width]\n",
    "\n",
    "        mask = np.zeros((height, width)).astype(np.uint8)\n",
    "        mask = cv2.drawContours(mask, sorted_ctrs, i, (255, 255, 255), cv2.FILLED, offset=(-x_start, -y_start))\n",
    "        roi = cv2.bitwise_and(mask.astype(np.uint8), im_roi.astype(np.uint8)).astype(np.uint8)\n",
    "\n",
    "        # CNN\n",
    "        if height < width:\n",
    "            padding = int((width - height) / 2.0)\n",
    "            roi_pad = np.pad(roi, (padding, padding), 'constant', constant_values=(0, 0))\n",
    "        elif width < height:\n",
    "            padding = int((height - width) / 2.0)\n",
    "            roi_pad = np.pad(roi, (padding, padding), 'constant', constant_values=(0, 0))\n",
    "        else:\n",
    "            roi_pad = roi\n",
    "        roi_pad = np.pad(roi_pad, (5, 5), 'constant', constant_values=(0, 0))\n",
    "\n",
    "        roi_resized = cv2.resize(roi_pad, (28,28), interpolation=cv2.INTER_NEAREST)\n",
    "        \n",
    "        roi_cnn = np.expand_dims(roi_resized, axis=2)\n",
    "        prob = model.predict_proba(np.array([roi_cnn]), verbose=0)\n",
    "        nbr = np.argmax(prob)\n",
    "        nbr_prob = prob[0]\n",
    "\n",
    "        # SVM w. HOG feats\n",
    "#         roi_hog_fd = calc_hog_feats(rect, roi)\n",
    "#         if not hasattr(roi_hog_fd, 'shape'): continue\n",
    "#         nbr = clf.predict(roi_hog_fd)\n",
    "#         # Dummy prob\n",
    "#         nbr_prob = 0\n",
    "\n",
    "        if x_start - prev_end_x < 80 and y_start - prev_end_y < 80:\n",
    "            cur_date_possib.append(nbr)\n",
    "        else:\n",
    "            date_possibs.append(cur_date_possib)\n",
    "            cur_date_possib = [nbr]\n",
    "\n",
    "        prev_end_x = x_start\n",
    "        prev_end_y = y_start\n",
    "\n",
    "        cv2.rectangle(im, (rect[0], rect[1]), (rect[0] + rect[2], rect[1] + rect[3]), (0, 100, 255), 1)\n",
    "        cv2.putText(im, str(int(nbr)), (rect[0], rect[1]), cv2.FONT_ITALIC, 0.4, (0, 0, 255), 1)\n",
    "        \n",
    "        # Only add if we are confident\n",
    "#         class_prob = np.max(prob)\n",
    "#         if class_prob > .9:\n",
    "#         probs.append(class_prob)\n",
    "\n",
    "        if nbr == 9:\n",
    "            continue\n",
    "#             pdb.set_trace()\n",
    "            \n",
    "        probs.append(0)\n",
    "        result.append((roi_resized, nbr))   \n",
    "\n",
    "    date_possibs.append(cur_date_possib)\n",
    "    \n",
    "    plt.imshow(im)\n",
    "    plt.show()\n",
    "    \n",
    "    return result, date_possibs, probs"
   ]
  },
  {
   "cell_type": "code",
   "execution_count": 527,
   "metadata": {
    "collapsed": false,
    "scrolled": true
   },
   "outputs": [],
   "source": [
    "filenames = ['../data/gels_nov_2016/Im{} - p. {}.png'.format(i, i) for i in imgs][8:9]\n",
    "results = [extract_numbers(f) for f in filenames]\n",
    "res = [x[0] for x in results]\n",
    "all_date_possibs = [x[1] for x in results]\n",
    "probs = [x[2] for x in results]"
   ]
  },
  {
   "cell_type": "code",
   "execution_count": 480,
   "metadata": {
    "collapsed": false
   },
   "outputs": [],
   "source": [
    "plt.imshow(scipy.misc.imread(filenames[0]))\n",
    "plt.show()"
   ]
  },
  {
   "cell_type": "markdown",
   "metadata": {},
   "source": [
    "### Plot res"
   ]
  },
  {
   "cell_type": "code",
   "execution_count": 464,
   "metadata": {
    "collapsed": false
   },
   "outputs": [],
   "source": [
    "def plot_things(things, labels):\n",
    "    count = len(things)\n",
    "    plt.figure(figsize=(50, 50))\n",
    "    \n",
    "    plt.axis('off')\n",
    "    plt.xticks([])\n",
    "    plt.yticks([])\n",
    "    for i, thing in enumerate(things):\n",
    "        cols = 15\n",
    "        rows = int(count / cols) + 1\n",
    "        ax = plt.subplot(rows, cols, 1 + i)\n",
    "        \n",
    "        ax.set_xticklabels([])\n",
    "        ax.set_yticklabels([])\n",
    "        ax.set_title(labels[i])\n",
    "\n",
    "        plt.imshow(thing)"
   ]
  },
  {
   "cell_type": "code",
   "execution_count": 512,
   "metadata": {
    "collapsed": false
   },
   "outputs": [],
   "source": [
    "rois_flat = [x[0] for sub in res for x in sub]\n",
    "nbrs_flat = [x[1] for sub in res for x in sub]\n",
    "probs_flat = [x for sub in probs for x in sub]\n",
    "\n",
    "titles = ['{} {:.0%}'.format(x, y) for x, y in zip(nbrs_flat, probs_flat)]\n",
    "\n",
    "i = 50\n",
    "s = slice(i, i + 1000)\n",
    "plot_things(rois_flat[s], titles[s])"
   ]
  },
  {
   "cell_type": "markdown",
   "metadata": {},
   "source": [
    "### Search for date"
   ]
  },
  {
   "cell_type": "code",
   "execution_count": 528,
   "metadata": {
    "collapsed": false
   },
   "outputs": [
    {
     "data": {
      "text/plain": [
       "[None, None, None, None]"
      ]
     },
     "execution_count": 528,
     "metadata": {},
     "output_type": "execute_result"
    }
   ],
   "source": [
    "import re\n",
    "from datetime import datetime\n",
    "\n",
    "date_regex = r'([01]?[0-9])1?([0-3]?[0-9])1?([0-9]{2,4})'\n",
    "\n",
    "# Filter matches to ones with b/w 6 and 8 characters\n",
    "all_d = [filter(lambda x: len(x) > 4 and len(x) < 11, date_possibs) for date_possibs in all_date_possibs]\n",
    "\n",
    "# Concatenate digit lists into strings\n",
    "all_d_cat = [''.join([str(v) for v in x]) for d in all_d for x in d]\n",
    "\n",
    "# Filter out matches with date_regex\n",
    "all_d_filt = [filter(lambda x: re.match(date_regex, x), d) for d in all_d_cat]\n",
    "\n",
    "# Extract date groups\n",
    "all_d_match = [map(lambda x: re.search(date_regex, x).groups(), d) for d in all_d_filt]\n",
    "\n",
    "# Take 0th elem\n",
    "the_d = [d_match[0] if len(d_match) else None for d_match in all_d_match]\n",
    "\n",
    "# Date objs\n",
    "dates = [datetime(int('20' + d[2]), int(d[0]), int(d[1])) if d else None for d in the_d]\n",
    "\n",
    "# Formatted\n",
    "dates = [d.strftime('%Y-%m-%d') if d else None for d in dates]\n",
    "\n",
    "dates"
   ]
  },
  {
   "cell_type": "code",
   "execution_count": null,
   "metadata": {
    "collapsed": false
   },
   "outputs": [],
   "source": []
  }
 ],
 "metadata": {
  "kernelspec": {
   "display_name": "tfkernel",
   "language": "python",
   "name": "tfkernel"
  },
  "language_info": {
   "codemirror_mode": {
    "name": "ipython",
    "version": 2
   },
   "file_extension": ".py",
   "mimetype": "text/x-python",
   "name": "python",
   "nbconvert_exporter": "python",
   "pygments_lexer": "ipython2",
   "version": "2.7.10"
  }
 },
 "nbformat": 4,
 "nbformat_minor": 2
}

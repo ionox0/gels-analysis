{
 "cells": [
  {
   "cell_type": "code",
   "execution_count": 1,
   "metadata": {
    "collapsed": false
   },
   "outputs": [
    {
     "name": "stderr",
     "output_type": "stream",
     "text": [
      "/usr/local/lib/python2.7/site-packages/matplotlib/font_manager.py:273: UserWarning: Matplotlib is building the font cache using fc-list. This may take a moment.\n",
      "  warnings.warn('Matplotlib is building the font cache using fc-list. This may take a moment.')\n"
     ]
    }
   ],
   "source": [
    "import os\n",
    "import itertools\n",
    "import sys\n",
    "import cv2\n",
    "import numpy as np\n",
    "import pandas as pd\n",
    "import scipy\n",
    "import skimage\n",
    "from skimage import data, filters\n",
    "import matplotlib\n",
    "from matplotlib import pyplot as plt"
   ]
  },
  {
   "cell_type": "code",
   "execution_count": 2,
   "metadata": {
    "collapsed": false
   },
   "outputs": [],
   "source": [
    "xls = pd.read_excel('../data/2012-2017_labels.xlsx', sheetname='2016')"
   ]
  },
  {
   "cell_type": "code",
   "execution_count": 3,
   "metadata": {
    "collapsed": false
   },
   "outputs": [
    {
     "data": {
      "text/plain": [
       "(216, 1571)"
      ]
     },
     "execution_count": 3,
     "metadata": {},
     "output_type": "execute_result"
    }
   ],
   "source": [
    "xls.shape"
   ]
  },
  {
   "cell_type": "code",
   "execution_count": 4,
   "metadata": {
    "collapsed": false
   },
   "outputs": [],
   "source": [
    "serum_cols = xls.columns.str.contains('SPEP')"
   ]
  },
  {
   "cell_type": "code",
   "execution_count": 12,
   "metadata": {
    "collapsed": false,
    "scrolled": false
   },
   "outputs": [
    {
     "data": {
      "text/plain": [
       "(30, 539)"
      ]
     },
     "execution_count": 12,
     "metadata": {},
     "output_type": "execute_result"
    }
   ],
   "source": [
    "cols = xls.columns[serum_cols]\n",
    "spreadsheet_top = xls.ix[:30, cols]\n",
    "spreadsheet_top.shape"
   ]
  },
  {
   "cell_type": "markdown",
   "metadata": {},
   "source": [
    "### Attempt to OCR gel dates"
   ]
  },
  {
   "cell_type": "code",
   "execution_count": 1,
   "metadata": {
    "collapsed": false
   },
   "outputs": [
    {
     "name": "stderr",
     "output_type": "stream",
     "text": [
      "Using TensorFlow backend.\n"
     ]
    }
   ],
   "source": [
    "import numpy as np\n",
    "import pandas as pd\n",
    "import keras\n",
    "from keras.models import Sequential\n",
    "from keras.layers import Dense\n",
    "from keras.wrappers.scikit_learn import KerasClassifier\n",
    "from keras.utils import np_utils\n",
    "from sklearn.cross_validation import cross_val_score\n",
    "from sklearn.cross_validation import KFold\n",
    "from sklearn.preprocessing import LabelEncoder\n",
    "from sklearn.cross_validation import train_test_split\n",
    "from sklearn.pipeline import Pipeline\n",
    "from sklearn import datasets\n",
    "\n",
    "from skimage import data, filters\n",
    "\n",
    "from keras.datasets import mnist\n",
    "from keras.layers import Dense, Dropout, Flatten\n",
    "from keras.layers import Conv2D, MaxPooling2D\n",
    "from keras import backend as K\n",
    "from keras.utils.np_utils import to_categorical\n",
    "\n",
    "from matplotlib import pyplot as plt"
   ]
  },
  {
   "cell_type": "code",
   "execution_count": 1,
   "metadata": {
    "collapsed": false
   },
   "outputs": [
    {
     "name": "stdout",
     "output_type": "stream",
     "text": [
      "JPG 0 from 18287 to 342953\n",
      "JPG 1 from 343210 to 661544\n",
      "JPG 2 from 661946 to 918306\n",
      "JPG 3 from 919763 to 1182200\n",
      "JPG 4 from 1182465 to 1415006\n",
      "JPG 5 from 1415271 to 1717770\n",
      "JPG 6 from 1718337 to 2565228\n",
      "JPG 7 from 2565494 to 3390389\n",
      "JPG 8 from 3390647 to 4070934\n",
      "JPG 9 from 4071200 to 4989581\n",
      "JPG 10 from 4989846 to 5545004\n",
      "JPG 11 from 5545270 to 6301888\n",
      "JPG 12 from 6302153 to 7097204\n",
      "JPG 13 from 7097486 to 7897884\n",
      "JPG 14 from 7898142 to 8818653\n",
      "JPG 15 from 8818919 to 9470832\n",
      "JPG 16 from 9471097 to 9851333\n",
      "JPG 17 from 9851599 to 10199113\n",
      "JPG 18 from 10199380 to 10516109\n",
      "JPG 19 from 10516376 to 10789240\n",
      "JPG 20 from 10789750 to 11142500\n",
      "JPG 21 from 11142767 to 11386450\n",
      "JPG 22 from 11386734 to 11776822\n",
      "JPG 23 from 11777089 to 12173207\n",
      "JPG 24 from 12173474 to 12559248\n",
      "JPG 25 from 12559515 to 13140375\n",
      "JPG 26 from 13140642 to 13483318\n",
      "JPG 27 from 13483577 to 13787207\n",
      "JPG 28 from 13787475 to 14411664\n",
      "JPG 29 from 14411932 to 15032712\n",
      "JPG 30 from 15032996 to 15416365\n",
      "JPG 31 from 15416625 to 16350520\n",
      "JPG 32 from 16351268 to 16631438\n",
      "JPG 33 from 16631698 to 17280871\n",
      "JPG 34 from 17281138 to 17885141\n",
      "JPG 35 from 17885401 to 18811441\n",
      "JPG 36 from 18811709 to 19568926\n",
      "JPG 37 from 19569186 to 20329858\n",
      "JPG 38 from 20330118 to 21221846\n",
      "JPG 39 from 21222114 to 22217922\n",
      "JPG 40 from 22218183 to 23305653\n",
      "JPG 41 from 23306929 to 24382696\n",
      "JPG 42 from 24382963 to 24728096\n",
      "JPG 43 from 24728364 to 25332728\n",
      "JPG 44 from 25332996 to 25859195\n",
      "JPG 45 from 25859455 to 26587282\n",
      "JPG 46 from 26587541 to 26919134\n",
      "JPG 47 from 26919401 to 27380173\n",
      "JPG 48 from 27380682 to 27818796\n",
      "JPG 49 from 27819056 to 28484969\n",
      "JPG 50 from 28485237 to 29142562\n",
      "JPG 51 from 29142822 to 29778453\n",
      "JPG 52 from 29778737 to 30225557\n",
      "JPG 53 from 30225824 to 30712048\n",
      "JPG 54 from 30712315 to 31165852\n",
      "JPG 55 from 31166112 to 31746266\n",
      "JPG 56 from 31746533 to 32073691\n",
      "JPG 57 from 32073958 to 32380430\n",
      "JPG 58 from 32380698 to 33028137\n",
      "JPG 59 from 33028405 to 33702399\n",
      "JPG 60 from 33702666 to 34065520\n",
      "JPG 61 from 34065787 to 34403939\n",
      "JPG 62 from 34404207 to 35203891\n",
      "JPG 63 from 35204158 to 35711344\n",
      "JPG 64 from 35711855 to 36040279\n",
      "JPG 65 from 36040539 to 36775490\n",
      "JPG 66 from 36775758 to 37327155\n",
      "JPG 67 from 37327422 to 37638673\n",
      "JPG 68 from 37638940 to 38063173\n",
      "JPG 69 from 38063457 to 38411146\n",
      "JPG 70 from 38411657 to 38993630\n",
      "JPG 71 from 38993890 to 39602332\n",
      "JPG 72 from 39602599 to 39920995\n",
      "JPG 73 from 39921262 to 40239818\n",
      "JPG 74 from 40240102 to 40488693\n",
      "JPG 75 from 40489204 to 40803271\n",
      "JPG 76 from 40803538 to 41151417\n",
      "JPG 77 from 41151700 to 41540216\n",
      "JPG 78 from 41540484 to 42221433\n",
      "JPG 79 from 42221700 to 42510243\n",
      "JPG 80 from 42510503 to 43252082\n",
      "JPG 81 from 43252350 to 44121320\n",
      "JPG 82 from 44121587 to 44498246\n",
      "JPG 83 from 44498756 to 44859309\n",
      "JPG 84 from 44859576 to 45190732\n",
      "JPG 85 from 45190999 to 45556940\n",
      "JPG 86 from 45557207 to 46085686\n",
      "JPG 87 from 46085946 to 46811639\n",
      "JPG 88 from 46811906 to 47170979\n",
      "JPG 89 from 47171247 to 47840454\n",
      "JPG 90 from 47840714 to 48536938\n",
      "JPG 91 from 48537198 to 49149744\n",
      "JPG 92 from 49150003 to 49439816\n",
      "JPG 93 from 49440076 to 50149687\n",
      "JPG 94 from 50149954 to 50410456\n",
      "JPG 95 from 50410716 to 51230440\n",
      "JPG 96 from 51230707 to 51551767\n",
      "JPG 97 from 51552034 to 51869283\n",
      "JPG 98 from 51869550 to 52246399\n",
      "JPG 99 from 52246666 to 52610232\n",
      "JPG 100 from 52610499 to 52944083\n",
      "JPG 101 from 52944350 to 53264829\n",
      "JPG 102 from 53265089 to 53823606\n",
      "JPG 103 from 53823873 to 54202734\n",
      "JPG 104 from 54203001 to 54540883\n",
      "JPG 105 from 54541144 to 55583272\n",
      "JPG 106 from 55583540 to 56147807\n",
      "JPG 107 from 56148074 to 56490418\n",
      "JPG 108 from 56490685 to 56795701\n",
      "JPG 109 from 56796208 to 57119858\n",
      "JPG 110 from 57120125 to 57417757\n",
      "JPG 111 from 57418017 to 58068229\n",
      "JPG 112 from 58068496 to 58432371\n",
      "JPG 113 from 58432638 to 58796693\n",
      "JPG 114 from 58796960 to 59189120\n",
      "JPG 115 from 59189380 to 59897768\n",
      "JPG 116 from 59898052 to 60374099\n",
      "JPG 117 from 60374359 to 61033648\n",
      "JPG 118 from 61033908 to 61628749\n",
      "JPG 119 from 61629008 to 62076728\n",
      "JPG 120 from 62077012 to 62536505\n",
      "JPG 121 from 62536764 to 63037429\n",
      "JPG 122 from 63037696 to 63447800\n",
      "JPG 123 from 63448068 to 63981391\n",
      "JPG 124 from 63981651 to 64519487\n",
      "JPG 125 from 64519754 to 64896748\n",
      "JPG 126 from 64897008 to 65553886\n",
      "JPG 127 from 65554153 to 65999646\n",
      "JPG 128 from 66000153 to 66352132\n",
      "JPG 129 from 66352392 to 67087570\n",
      "JPG 130 from 67087838 to 68048156\n",
      "JPG 131 from 68048423 to 68713622\n",
      "JPG 132 from 68713889 to 68997323\n",
      "JPG 133 from 68997590 to 69197701\n",
      "JPG 134 from 69197969 to 69903542\n",
      "JPG 135 from 69904050 to 70651508\n",
      "JPG 136 from 70652876 to 71097835\n",
      "JPG 137 from 71098102 to 71472385\n",
      "JPG 138 from 71472652 to 71898696\n",
      "JPG 139 from 71898963 to 72228919\n",
      "JPG 140 from 72229187 to 72905607\n",
      "JPG 141 from 72905874 to 73357528\n",
      "JPG 142 from 73357788 to 74004786\n",
      "JPG 143 from 74005054 to 74636627\n",
      "JPG 144 from 74636894 to 75111620\n",
      "JPG 145 from 75111887 to 75467407\n",
      "JPG 146 from 75467674 to 75887020\n",
      "JPG 147 from 75887287 to 76105170\n",
      "JPG 148 from 76105677 to 76437191\n",
      "JPG 149 from 76437450 to 76759205\n",
      "JPG 150 from 76759472 to 76994781\n",
      "JPG 151 from 76995048 to 77217987\n",
      "JPG 152 from 77218248 to 77586082\n",
      "JPG 153 from 77586351 to 77927006\n",
      "JPG 154 from 77927275 to 78300227\n",
      "JPG 155 from 78300496 to 78634765\n",
      "JPG 156 from 78635051 to 78929897\n",
      "JPG 157 from 78930166 to 79187320\n",
      "JPG 158 from 79187589 to 79431456\n",
      "JPG 159 from 79431725 to 79697537\n",
      "JPG 160 from 79697806 to 80041398\n",
      "JPG 161 from 80041911 to 80408461\n",
      "JPG 162 from 80408723 to 80910412\n",
      "JPG 163 from 80910681 to 81289256\n",
      "JPG 164 from 81289525 to 81672802\n",
      "JPG 165 from 81673071 to 81971232\n",
      "JPG 166 from 81971501 to 82375606\n",
      "JPG 167 from 82375875 to 82736311\n",
      "JPG 168 from 82736573 to 83546068\n",
      "JPG 169 from 83546338 to 84476750\n",
      "JPG 170 from 84477020 to 85283224\n",
      "JPG 171 from 85283493 to 85662995\n",
      "JPG 172 from 85663257 to 86365926\n",
      "JPG 173 from 86366196 to 87062996\n",
      "JPG 174 from 87063258 to 87843552\n",
      "JPG 175 from 87850077 to 88460572\n",
      "JPG 176 from 88465556 to 89149170\n",
      "JPG 177 from 89161647 to 89460225\n",
      "JPG 178 from 89460494 to 89799196\n",
      "JPG 179 from 89799465 to 90285470\n",
      "JPG 180 from 90285739 to 90771744\n",
      "JPG 181 from 90778353 to 91407176\n",
      "JPG 182 from 91407438 to 91996349\n",
      "JPG 183 from 91996618 to 92411961\n",
      "JPG 184 from 92412223 to 92896869\n"
     ]
    }
   ],
   "source": [
    "def extract_images_from_pdf(filename):\n",
    "    # https://nedbatchelder.com/blog/200712/extracting_jpgs_from_pdfs.html\n",
    "    pdf = open(filename, \"rb\").read()\n",
    "\n",
    "    startmark = \"\\xff\\xd8\"\n",
    "    startfix = 0\n",
    "    endmark = \"\\xff\\xd9\"\n",
    "    endfix = 2\n",
    "    i = 0\n",
    "\n",
    "    njpg = 0\n",
    "    while True:\n",
    "        istream = pdf.find(\"stream\", i)\n",
    "        if istream < 0:\n",
    "            break\n",
    "        istart = pdf.find(startmark, istream, istream + 20)\n",
    "        if istart < 0:\n",
    "            i = istream + 20\n",
    "            continue\n",
    "        iend = pdf.find(\"endstream\", istart)\n",
    "        if iend < 0:\n",
    "            raise Exception(\"Didn't find end of stream!\")\n",
    "        iend = pdf.find(endmark, iend - 20)\n",
    "        if iend < 0:\n",
    "            raise Exception(\"Didn't find end of JPG!\")\n",
    "\n",
    "        istart += startfix\n",
    "        iend += endfix\n",
    "        print(\"JPG %d from %d to %d\" % (njpg, istart, iend))\n",
    "\n",
    "        jpg = pdf[istart:iend]\n",
    "        jpgfile = open(\"./april_2016_gels/jpg%d.jpg\" % njpg, \"wb\")\n",
    "        jpgfile.write(jpg)\n",
    "        jpgfile.close()\n",
    "\n",
    "        njpg += 1\n",
    "        i = iend\n",
    "        \n",
    "extract_images_from_pdf('../data/GelsApr2016.pdf')"
   ]
  },
  {
   "cell_type": "code",
   "execution_count": 11,
   "metadata": {
    "collapsed": false
   },
   "outputs": [
    {
     "data": {
      "text/plain": [
       "<matplotlib.image.AxesImage at 0x120fa3890>"
      ]
     },
     "execution_count": 11,
     "metadata": {},
     "output_type": "execute_result"
    }
   ],
   "source": [
    "img = data.imread('./april_2016_gels/jpg3.jpg', 0)\n",
    "plt.imshow(img)"
   ]
  },
  {
   "cell_type": "code",
   "execution_count": 12,
   "metadata": {
    "collapsed": false
   },
   "outputs": [
    {
     "data": {
      "image/png": "[encoded data removed]",
      "text/plain": [
       "<matplotlib.figure.Figure at 0x11b827190>"
      ]
     },
     "metadata": {},
     "output_type": "display_data"
    }
   ],
   "source": [
    "plt.show()"
   ]
  },
  {
   "cell_type": "code",
   "execution_count": 28,
   "metadata": {
    "collapsed": false
   },
   "outputs": [
    {
     "name": "stdout",
     "output_type": "stream",
     "text": [
      "<module 'keras.datasets.mnist' from '/Users/ianjohnson/.virtualenvs/tensorflow2/lib/python2.7/site-packages/keras/datasets/mnist.pyc'>\n"
     ]
    },
    {
     "ename": "TypeError",
     "evalue": "compile() takes at least 3 arguments (1 given)",
     "output_type": "error",
     "traceback": [
      "\u001b[0;31m---------------------------------------------------------------------------\u001b[0m",
      "\u001b[0;31mTypeError\u001b[0m                                 Traceback (most recent call last)",
      "\u001b[0;32m<ipython-input-28-2cda1ab24c3d>\u001b[0m in \u001b[0;36m<module>\u001b[0;34m()\u001b[0m\n\u001b[1;32m      7\u001b[0m \u001b[0mmodel\u001b[0m\u001b[0;34m.\u001b[0m\u001b[0madd\u001b[0m\u001b[0;34m(\u001b[0m\u001b[0mDense\u001b[0m\u001b[0;34m(\u001b[0m\u001b[0;36m64\u001b[0m\u001b[0;34m)\u001b[0m\u001b[0;34m)\u001b[0m\u001b[0;34m\u001b[0m\u001b[0m\n\u001b[1;32m      8\u001b[0m \u001b[0;34m\u001b[0m\u001b[0m\n\u001b[0;32m----> 9\u001b[0;31m \u001b[0mmodel\u001b[0m\u001b[0;34m.\u001b[0m\u001b[0mcompile\u001b[0m\u001b[0;34m(\u001b[0m\u001b[0;34m)\u001b[0m\u001b[0;34m\u001b[0m\u001b[0m\n\u001b[0m\u001b[1;32m     10\u001b[0m \u001b[0mmodel\u001b[0m\u001b[0;34m.\u001b[0m\u001b[0mtrain\u001b[0m\u001b[0;34m\u001b[0m\u001b[0m\n",
      "\u001b[0;31mTypeError\u001b[0m: compile() takes at least 3 arguments (1 given)"
     ]
    }
   ],
   "source": [
    "from keras.datasets import mnist\n",
    "\n",
    "\n",
    "(x_train, y_train), (x_test, y_test) = mnist.load_data()\n",
    "\n",
    "model = Sequential()\n",
    "model.add(Dense(32, input_shape=img.shape))\n",
    "model.add(Dense(64))\n",
    "\n",
    "model.compile()\n",
    "model.train"
   ]
  },
  {
   "cell_type": "code",
   "execution_count": null,
   "metadata": {
    "collapsed": false
   },
   "outputs": [],
   "source": []
  },
  {
   "cell_type": "code",
   "execution_count": null,
   "metadata": {
    "collapsed": false
   },
   "outputs": [],
   "source": []
  }
 ],
 "metadata": {
  "kernelspec": {
   "display_name": "cv",
   "language": "python",
   "name": "cv"
  },
  "language_info": {
   "codemirror_mode": {
    "name": "ipython",
    "version": 2
   },
   "file_extension": ".py",
   "mimetype": "text/x-python",
   "name": "python",
   "nbconvert_exporter": "python",
   "pygments_lexer": "ipython2",
   "version": "2.7.13"
  }
 },
 "nbformat": 4,
 "nbformat_minor": 2
}

{
 "cells": [
  {
   "cell_type": "markdown",
   "metadata": {},
   "source": [
    "### Search for date"
   ]
  },
  {
   "cell_type": "code",
   "execution_count": 1,
   "metadata": {
    "collapsed": false
   },
   "outputs": [],
   "source": [
    "import re\n",
    "from datetime import datetime\n",
    "\n",
    "date_regex = r'([01]?[0-9])1?([0-3]?[0-9])1?([0-9]{2,4})'\n",
    "\n",
    "def find_dates(date_possibs):\n",
    "    # Filter matches to ones with b/w 6 and 8 characters\n",
    "    all_d = [filter(lambda x: len(x) > 4 and len(x) < 11, date_possibs) for date_possibs in all_date_possibs]\n",
    "\n",
    "    # Concatenate digit lists into strings\n",
    "    all_d_cat = [''.join([str(v) for v in x]) for d in all_d for x in d]\n",
    "\n",
    "    # Filter out matches with date_regex\n",
    "    all_d_filt = [filter(lambda x: re.match(date_regex, x), d) for d in all_d_cat]\n",
    "\n",
    "    # Extract date groups\n",
    "    all_d_match = [map(lambda x: re.search(date_regex, x).groups(), d) for d in all_d_filt]\n",
    "\n",
    "    # Take 0th elem\n",
    "    the_d = [d_match[0] if len(d_match) else None for d_match in all_d_match]\n",
    "\n",
    "    # Date objs\n",
    "    dates = [datetime(int('20' + d[2]), int(d[0]), int(d[1])) if d else None for d in the_d]\n",
    "\n",
    "    # Formatted\n",
    "    dates = [d.strftime('%Y-%m-%d') if d else None for d in dates]\n",
    "\n",
    "    return dates"
   ]
  },
  {
   "cell_type": "code",
   "execution_count": null,
   "metadata": {
    "collapsed": false
   },
   "outputs": [],
   "source": []
  }
 ],
 "metadata": {
  "kernelspec": {
   "display_name": "tfkernel",
   "language": "python",
   "name": "tfkernel"
  },
  "language_info": {
   "codemirror_mode": {
    "name": "ipython",
    "version": 2
   },
   "file_extension": ".py",
   "mimetype": "text/x-python",
   "name": "python",
   "nbconvert_exporter": "python",
   "pygments_lexer": "ipython2",
   "version": "2.7.10"
  }
 },
 "nbformat": 4,
 "nbformat_minor": 2
}
